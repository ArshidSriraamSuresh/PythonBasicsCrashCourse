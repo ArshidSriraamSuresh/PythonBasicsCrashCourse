{
 "cells": [
  {
   "cell_type": "markdown",
   "id": "3117614b",
   "metadata": {},
   "source": [
    "##### Python Basics"
   ]
  },
  {
   "cell_type": "markdown",
   "id": "18e25fb8",
   "metadata": {},
   "source": [
    "##### Installation of Python"
   ]
  },
  {
   "cell_type": "markdown",
   "id": "6424c78c",
   "metadata": {},
   "source": [
    "##### Install Python\n",
    "##### Go to this website\n",
    "https://www.python.org/downloads/"
   ]
  },
  {
   "cell_type": "code",
   "execution_count": null,
   "id": "ff09fd3c",
   "metadata": {},
   "outputs": [],
   "source": [
    "# Download the Python 3.0 version.\n",
    "# Python 2.0 is the legacy version or old version of Python and it is not maintained.\n",
    "# Python 2.0 has been there for a long time.\n",
    "# Python 3.0 is the future of Python and is actively maintained."
   ]
  },
  {
   "cell_type": "markdown",
   "id": "6993e8ef",
   "metadata": {},
   "source": [
    "##### Text Editor"
   ]
  },
  {
   "cell_type": "code",
   "execution_count": null,
   "id": "75602a58",
   "metadata": {},
   "outputs": [],
   "source": [
    "# Download the Pycharm community version which is free.\n",
    "# There are special IDE's which will help us to fix Python errors better."
   ]
  },
  {
   "cell_type": "code",
   "execution_count": null,
   "id": "fced9d25",
   "metadata": {},
   "outputs": [],
   "source": [
    "# After intalling verify the SHA-256 checksum.\n",
    "# Open windows powershell: Powershell.\n",
    "# Refer https://www.educba.com/powershell-vs-command-prompt/ to know the difference between cmd and Powershell.....\n",
    "# follow the steps in the following url: https://docs.precisely.com/docs/sftw/spectrum/ProductUpdateSummary/ProductUpdateSummary/source/about_sha256.html"
   ]
  },
  {
   "cell_type": "code",
   "execution_count": null,
   "id": "854e3bac",
   "metadata": {},
   "outputs": [],
   "source": [
    "# There in the download page click on Verify the file SHA-256 checksum.\n",
    "# Install Pycharm"
   ]
  },
  {
   "cell_type": "markdown",
   "id": "e9c7cf68",
   "metadata": {},
   "source": [
    "##### Let's Start - Basic setup and Hello World ritual"
   ]
  },
  {
   "cell_type": "code",
   "execution_count": null,
   "id": "a2b6564b",
   "metadata": {},
   "outputs": [],
   "source": [
    "# Open Pycharm editor\n",
    "# Note that we can install multiple versions of Python in our computer.\n",
    "# So choose the version accordingly in the Python interpreter.\n",
    "\n",
    "# Additional info: Will Python 4.0 be released: https://builtin.com/software-engineering-perspectives/python-4"
   ]
  },
  {
   "cell_type": "code",
   "execution_count": null,
   "id": "b40d2044",
   "metadata": {},
   "outputs": [],
   "source": [
    "# Activity: Refer https://www.wikihow.com/Create-a-Programming-Language\n",
    "# Assignment 1: Create a report on how Python programming language was created from the base level."
   ]
  },
  {
   "cell_type": "markdown",
   "id": "65f73657",
   "metadata": {},
   "source": [
    "##### Hello World"
   ]
  },
  {
   "cell_type": "code",
   "execution_count": 1,
   "id": "f81e7267",
   "metadata": {},
   "outputs": [
    {
     "name": "stdout",
     "output_type": "stream",
     "text": [
      "Hello World\n"
     ]
    }
   ],
   "source": [
    "# print() is a predefined function existing already in Python\n",
    "# We are just using it.....\n",
    "print(\"Hello World\")"
   ]
  },
  {
   "cell_type": "markdown",
   "id": "9cbb4512",
   "metadata": {},
   "source": [
    "##### Pythn executes code in order ----- Drawing a shape - Python program"
   ]
  },
  {
   "cell_type": "code",
   "execution_count": 4,
   "id": "359b9b26",
   "metadata": {},
   "outputs": [
    {
     "name": "stdout",
     "output_type": "stream",
     "text": [
      "   /|\n",
      "  / |\n",
      " /  |\n",
      "/___|\n"
     ]
    }
   ],
   "source": [
    "# print() statement - this is ignored because it is a comment.\n",
    "print(\"   /|\") # Python first executes this code.\n",
    "print(\"  / |\") # Then Python moves to the next line and so on.\n",
    "print(\" /  |\") # Only comments are skipped all codes are executed.\n",
    "print(\"/___|\") # Order of the instructions actually matters a lot.\n",
    "# Why this example - python executes code line by line in order, it ignores only the comments"
   ]
  },
  {
   "cell_type": "code",
   "execution_count": 5,
   "id": "fe465b93",
   "metadata": {},
   "outputs": [
    {
     "name": "stdout",
     "output_type": "stream",
     "text": [
      "   /|\n",
      " /  |\n",
      "/___|\n",
      "  / |\n"
     ]
    }
   ],
   "source": [
    "# Order of the instructions actually matters a lot.\n",
    "print(\"   /|\") \n",
    "print(\" /  |\") \n",
    "print(\"/___|\") \n",
    "print(\"  / |\") "
   ]
  },
  {
   "cell_type": "markdown",
   "id": "7ddc2be7",
   "metadata": {},
   "source": [
    "##### Variables and data types"
   ]
  },
  {
   "cell_type": "code",
   "execution_count": null,
   "id": "7dc04d72",
   "metadata": {},
   "outputs": [],
   "source": [
    "# To manage data.\n",
    "# Variables are containers in which we store data values."
   ]
  },
  {
   "cell_type": "markdown",
   "id": "88048601",
   "metadata": {},
   "source": [
    "##### Example to Understand why we use variable?"
   ]
  },
  {
   "cell_type": "code",
   "execution_count": 6,
   "id": "5a0a6c20",
   "metadata": {},
   "outputs": [
    {
     "name": "stdout",
     "output_type": "stream",
     "text": [
      "My name is Ram\n",
      "I am 16 years old.\n",
      "I work as a data scientist.\n"
     ]
    }
   ],
   "source": [
    "print(\"My name is Ram\")\n",
    "print(\"I am 16 years old.\")\n",
    "print(\"I work as a data scientist.\")\n",
    "# If I need to change this information I need to manually change it in each print statement.\n",
    "# So variables help us to store dynamic information. (Information which are subjected to change depensing on a particaular scenario.)"
   ]
  },
  {
   "cell_type": "code",
   "execution_count": 7,
   "id": "b7d23aaa",
   "metadata": {},
   "outputs": [],
   "source": [
    "# storing it in variables, to use it again and again\n",
    "# Creating a variable\n",
    "# name_of_the_variable = value\n",
    "name = \"Ram\" \n",
    "age = 16\n",
    "work = \"data scientist\""
   ]
  },
  {
   "cell_type": "code",
   "execution_count": 8,
   "id": "abc98097",
   "metadata": {},
   "outputs": [
    {
     "name": "stdout",
     "output_type": "stream",
     "text": [
      "My name is Ram\n",
      "I am 16 years old.\n",
      "I work as a data scientist.\n"
     ]
    }
   ],
   "source": [
    "print(\"My name is {}\".format(name))\n",
    "print(\"I am {} years old.\".format(age))\n",
    "print(\"I work as a {}.\".format(work))"
   ]
  },
  {
   "cell_type": "code",
   "execution_count": 9,
   "id": "8367e602",
   "metadata": {},
   "outputs": [],
   "source": [
    "# Now I can over write and use these variables again for a different person\n",
    "name = \"Arjun\"\n",
    "age = 9\n",
    "work = \"student\""
   ]
  },
  {
   "cell_type": "code",
   "execution_count": 11,
   "id": "81d91020",
   "metadata": {},
   "outputs": [
    {
     "name": "stdout",
     "output_type": "stream",
     "text": [
      "My name is Arjun\n",
      "I am 9 years old.\n",
      "I work as a student.\n"
     ]
    }
   ],
   "source": [
    "# This is also referred to as overwriting a variable in python\n",
    "print(\"My name is {}\".format(name))\n",
    "print(\"I am {} years old.\".format(age))\n",
    "print(\"I work as a {}.\".format(work))"
   ]
  },
  {
   "cell_type": "code",
   "execution_count": null,
   "id": "bb794b2f",
   "metadata": {},
   "outputs": [],
   "source": [
    "# Characteristics\n",
    "# Variables easily can help the users to manage data in a program.\n",
    "# Variables can be overwritten. (Update variables.....)"
   ]
  },
  {
   "cell_type": "code",
   "execution_count": null,
   "id": "89930080",
   "metadata": {},
   "outputs": [],
   "source": [
    "# Different types of data we can store as value to a variable"
   ]
  },
  {
   "cell_type": "markdown",
   "id": "ba6815d1",
   "metadata": {},
   "source": [
    "##### Data Types"
   ]
  },
  {
   "cell_type": "code",
   "execution_count": 14,
   "id": "432b4e04",
   "metadata": {},
   "outputs": [
    {
     "name": "stdout",
     "output_type": "stream",
     "text": [
      "Arjun\n"
     ]
    },
    {
     "data": {
      "text/plain": [
       "str"
      ]
     },
     "execution_count": 14,
     "metadata": {},
     "output_type": "execute_result"
    }
   ],
   "source": [
    "# String\n",
    "name = \"Arjun\"\n",
    "print(name)\n",
    "type(name)"
   ]
  },
  {
   "cell_type": "code",
   "execution_count": 15,
   "id": "e0ac1b9e",
   "metadata": {},
   "outputs": [
    {
     "name": "stdout",
     "output_type": "stream",
     "text": [
      "16\n"
     ]
    },
    {
     "data": {
      "text/plain": [
       "int"
      ]
     },
     "execution_count": 15,
     "metadata": {},
     "output_type": "execute_result"
    }
   ],
   "source": [
    "# number -int- whole number\n",
    "age = 16\n",
    "print(age)\n",
    "type(age)"
   ]
  },
  {
   "cell_type": "code",
   "execution_count": 16,
   "id": "ebc122c0",
   "metadata": {},
   "outputs": [
    {
     "name": "stdout",
     "output_type": "stream",
     "text": [
      "1.62\n"
     ]
    },
    {
     "data": {
      "text/plain": [
       "float"
      ]
     },
     "execution_count": 16,
     "metadata": {},
     "output_type": "execute_result"
    }
   ],
   "source": [
    "# number -float- decimal number\n",
    "value = 1.62\n",
    "print(value)\n",
    "type(value)"
   ]
  },
  {
   "cell_type": "code",
   "execution_count": 20,
   "id": "abfde261",
   "metadata": {},
   "outputs": [
    {
     "name": "stdout",
     "output_type": "stream",
     "text": [
      "True\n",
      "<class 'bool'>\n",
      "False\n",
      "<class 'bool'>\n"
     ]
    }
   ],
   "source": [
    "# boolean - True or False\n",
    "are_you_boy = True\n",
    "print(are_you_boy)\n",
    "print(type(are_you_boy))\n",
    "are_you_girl = False\n",
    "print(are_you_girl)\n",
    "print(type(are_you_girl)"
   ]
  },
  {
   "cell_type": "code",
   "execution_count": null,
   "id": "5e08a75b",
   "metadata": {},
   "outputs": [],
   "source": [
    "# there are other data types in Python but as a beginner these are very important......"
   ]
  },
  {
   "cell_type": "markdown",
   "id": "22064ba1",
   "metadata": {},
   "source": [
    "##### Working with Strings in Python"
   ]
  },
  {
   "cell_type": "code",
   "execution_count": null,
   "id": "f17ae82f",
   "metadata": {},
   "outputs": [],
   "source": [
    "# Strings are basically plain text"
   ]
  },
  {
   "cell_type": "code",
   "execution_count": null,
   "id": "62e15f53",
   "metadata": {},
   "outputs": [],
   "source": [
    "# To create a string we use '' or \"\" (single quotations or double quotations)"
   ]
  },
  {
   "cell_type": "code",
   "execution_count": 21,
   "id": "c60ff3a7",
   "metadata": {},
   "outputs": [
    {
     "name": "stdout",
     "output_type": "stream",
     "text": [
      "Amshuhu Academy\n"
     ]
    }
   ],
   "source": [
    "# single quotation ''\n",
    "print('Amshuhu Academy')"
   ]
  },
  {
   "cell_type": "code",
   "execution_count": 22,
   "id": "2879a56c",
   "metadata": {},
   "outputs": [
    {
     "name": "stdout",
     "output_type": "stream",
     "text": [
      "Amshuhu Academy\n"
     ]
    }
   ],
   "source": [
    "# double quotation ''\n",
    "print(\"Amshuhu Academy\")"
   ]
  },
  {
   "cell_type": "code",
   "execution_count": 23,
   "id": "83d44403",
   "metadata": {},
   "outputs": [
    {
     "name": "stdout",
     "output_type": "stream",
     "text": [
      "Amshuhu\n",
      "Academy\n"
     ]
    }
   ],
   "source": [
    "# Using \\n - new line\n",
    "print(\"Amshuhu\\nAcademy\")"
   ]
  },
  {
   "cell_type": "code",
   "execution_count": 24,
   "id": "02066a1f",
   "metadata": {},
   "outputs": [
    {
     "name": "stdout",
     "output_type": "stream",
     "text": [
      "Amshuhu's Data Science team\n",
      "Amshuhu\"s Data Science team\n",
      "Amshuhu\"s Data Science team\n",
      "Amshuhu's Data Science team\n"
     ]
    }
   ],
   "source": [
    "# Escape character in string\n",
    "# \\ is the escape character\n",
    "# If I use a quotation inside it will confuse the python interpreter where the string begins and ends\n",
    "# If you use quotations inside a string use \\ character\n",
    "# but you can use single quotation inside double quotations or vice versa\n",
    "print(\"Amshuhu's Data Science team\")\n",
    "print('Amshuhu\"s Data Science team')\n",
    "print(\"Amshuhu\\\"s Data Science team\")\n",
    "print('Amshuhu\\'s Data Science team')"
   ]
  },
  {
   "cell_type": "code",
   "execution_count": 27,
   "id": "1bb19d50",
   "metadata": {},
   "outputs": [
    {
     "name": "stdout",
     "output_type": "stream",
     "text": [
      "Amshuhu\\s Data Science team\n",
      "Amshuhu\\#s Data Science team\n",
      "Amshuhu\\s Data Science team\n"
     ]
    }
   ],
   "source": [
    "# You can also print backslash\n",
    "print('Amshuhu\\s Data Science team') # it does not escape characters\n",
    "print('Amshuhu\\#s Data Science team') # even special characters\n",
    "print('Amshuhu\\\\s Data Science team') # \\\\ means one \\\n",
    "# just the quotations and \\ "
   ]
  },
  {
   "cell_type": "code",
   "execution_count": 28,
   "id": "6ee7b5c3",
   "metadata": {},
   "outputs": [
    {
     "name": "stdout",
     "output_type": "stream",
     "text": [
      "Arjun\n",
      "<class 'str'>\n"
     ]
    }
   ],
   "source": [
    "# Create string variable\n",
    "# variable_name = string_value\n",
    "name = \"Arjun\"\n",
    "print(name)\n",
    "print(type(name))"
   ]
  },
  {
   "cell_type": "code",
   "execution_count": 31,
   "id": "1a790414",
   "metadata": {},
   "outputs": [
    {
     "name": "stdout",
     "output_type": "stream",
     "text": [
      "Arjun is a cool guy.\n"
     ]
    }
   ],
   "source": [
    "# Concatentation - Adding multiple strings\n",
    "print(name+' '+'is a cool guy.')"
   ]
  },
  {
   "cell_type": "code",
   "execution_count": 37,
   "id": "58f75f22",
   "metadata": {},
   "outputs": [
    {
     "name": "stdout",
     "output_type": "stream",
     "text": [
      "Bridgette\n",
      "BRIDGETTE\n",
      "True\n",
      "bridgette\n",
      "True\n"
     ]
    }
   ],
   "source": [
    "#Accessing predefined and already existing  string functions in Python\n",
    "name = \"Bridgette\"\n",
    "print(name)\n",
    "# using . immediately after the declared variable helps us to access the string functions\n",
    "name = name.upper()\n",
    "print(name)\n",
    "print(name.isupper())\n",
    "name = name.lower()\n",
    "print(name)\n",
    "print(name.islower())"
   ]
  },
  {
   "cell_type": "code",
   "execution_count": 40,
   "id": "5e75536c",
   "metadata": {},
   "outputs": [
    {
     "name": "stdout",
     "output_type": "stream",
     "text": [
      "bridgette\n",
      "True\n",
      "False\n"
     ]
    }
   ],
   "source": [
    "# Functions can (also be used in combinations with each other\n",
    "print(name)\n",
    "print(name.upper().isupper())\n",
    "print(name.lower().isupper())"
   ]
  },
  {
   "cell_type": "code",
   "execution_count": 42,
   "id": "57d7035a",
   "metadata": {},
   "outputs": [
    {
     "name": "stdout",
     "output_type": "stream",
     "text": [
      "bridgette\n"
     ]
    },
    {
     "data": {
      "text/plain": [
       "9"
      ]
     },
     "execution_count": 42,
     "metadata": {},
     "output_type": "execute_result"
    }
   ],
   "source": [
    "# Lenth of a string\n",
    "# len it is apredefined function to find the number of characters in a string\n",
    "print(name)\n",
    "len(name)"
   ]
  },
  {
   "cell_type": "code",
   "execution_count": 44,
   "id": "0300c611",
   "metadata": {},
   "outputs": [
    {
     "name": "stdout",
     "output_type": "stream",
     "text": [
      "bridgette\n",
      "b\n",
      "r\n",
      "i\n",
      "d\n",
      "g\n",
      "e\n"
     ]
    }
   ],
   "source": [
    "# String characters are indexed\n",
    "# Positive index always starts with 0 in Python.....\n",
    "print(name)\n",
    "# To specify the index we use [] after variable and mention the index as a number inside the square brackets\n",
    "print(name[0])\n",
    "print(name[1])\n",
    "print(name[2])\n",
    "print(name[3])\n",
    "print(name[4])\n",
    "print(name[5])"
   ]
  },
  {
   "cell_type": "code",
   "execution_count": 50,
   "id": "1949cd4a",
   "metadata": {},
   "outputs": [
    {
     "name": "stdout",
     "output_type": "stream",
     "text": [
      "bridgette\n",
      "4\n"
     ]
    }
   ],
   "source": [
    "# index() function - particular character exists in a function\n",
    "print(name)\n",
    "print(name.index(\"g\")) # if the character is present it returns the index otherwise it raises an error"
   ]
  },
  {
   "cell_type": "code",
   "execution_count": 53,
   "id": "8284915e",
   "metadata": {},
   "outputs": [
    {
     "name": "stdout",
     "output_type": "stream",
     "text": [
      "bridgette\n",
      "4\n",
      "<class 'int'>\n"
     ]
    }
   ],
   "source": [
    "# index() function returns an integer\n",
    "print(name)\n",
    "find_g = name.index(\"g\")\n",
    "print(find_g)\n",
    "print(type(find_g))"
   ]
  },
  {
   "cell_type": "code",
   "execution_count": 54,
   "id": "ce3655c9",
   "metadata": {},
   "outputs": [
    {
     "name": "stdout",
     "output_type": "stream",
     "text": [
      "bridgette\n",
      "5\n",
      "<class 'int'>\n"
     ]
    }
   ],
   "source": [
    "# index() function - if there are multiple characters then it returns the index of first found charcter in positive index order.,....\n",
    "print(name)\n",
    "find_e = name.index(\"e\")\n",
    "print(find_e)\n",
    "print(type(find_e))"
   ]
  },
  {
   "cell_type": "code",
   "execution_count": 57,
   "id": "da920739",
   "metadata": {},
   "outputs": [
    {
     "name": "stdout",
     "output_type": "stream",
     "text": [
      "bridgette charle\n",
      "10\n"
     ]
    }
   ],
   "source": [
    "# index() function- actual words can also be used\n",
    "name = \"bridgette charle\"\n",
    "print(name)\n",
    "print(name.index(\"charle\"))\n",
    "# it tells where the sequence starts"
   ]
  },
  {
   "cell_type": "code",
   "execution_count": 58,
   "id": "fd992b51",
   "metadata": {},
   "outputs": [
    {
     "name": "stdout",
     "output_type": "stream",
     "text": [
      "bridgette charle\n"
     ]
    },
    {
     "ename": "ValueError",
     "evalue": "substring not found",
     "output_type": "error",
     "traceback": [
      "\u001b[1;31m---------------------------------------------------------------------------\u001b[0m",
      "\u001b[1;31mValueError\u001b[0m                                Traceback (most recent call last)",
      "\u001b[1;32m~\\AppData\\Local\\Temp/ipykernel_1836/1899416609.py\u001b[0m in \u001b[0;36m<module>\u001b[1;34m\u001b[0m\n\u001b[0;32m      1\u001b[0m \u001b[1;31m#index() function - if some character is not present in a string it will raise an error\u001b[0m\u001b[1;33m\u001b[0m\u001b[1;33m\u001b[0m\u001b[0m\n\u001b[0;32m      2\u001b[0m \u001b[0mprint\u001b[0m\u001b[1;33m(\u001b[0m\u001b[0mname\u001b[0m\u001b[1;33m)\u001b[0m\u001b[1;33m\u001b[0m\u001b[1;33m\u001b[0m\u001b[0m\n\u001b[1;32m----> 3\u001b[1;33m \u001b[0mprint\u001b[0m\u001b[1;33m(\u001b[0m\u001b[0mname\u001b[0m\u001b[1;33m.\u001b[0m\u001b[0mindex\u001b[0m\u001b[1;33m(\u001b[0m\u001b[1;34m\"v\"\u001b[0m\u001b[1;33m)\u001b[0m\u001b[1;33m)\u001b[0m\u001b[1;33m\u001b[0m\u001b[1;33m\u001b[0m\u001b[0m\n\u001b[0m",
      "\u001b[1;31mValueError\u001b[0m: substring not found"
     ]
    }
   ],
   "source": [
    "#index() function - if some character is not present in a string it will raise an error\n",
    "print(name)\n",
    "print(name.index(\"v\"))\n",
    "# ValueError: substring not found"
   ]
  },
  {
   "cell_type": "code",
   "execution_count": 59,
   "id": "dbfce552",
   "metadata": {},
   "outputs": [
    {
     "name": "stdout",
     "output_type": "stream",
     "text": [
      "bridgette charle\n",
      "sylvie charle\n",
      "bridgette charle\n"
     ]
    }
   ],
   "source": [
    "# .replace() function\n",
    "print(name)\n",
    "print(name.replace('bridgette','sylvie'))\n",
    "print(name)"
   ]
  },
  {
   "cell_type": "code",
   "execution_count": null,
   "id": "c06bbf36",
   "metadata": {},
   "outputs": [],
   "source": [
    "# a lot of different string functions exists but these are the common ones....."
   ]
  },
  {
   "cell_type": "code",
   "execution_count": null,
   "id": "310c5283",
   "metadata": {},
   "outputs": [],
   "source": [
    "# 50 commonly used Python string functions: Refere all these methods\n",
    "# https://www.geeksforgeeks.org/python-string-methods/"
   ]
  },
  {
   "cell_type": "markdown",
   "id": "76fa6377",
   "metadata": {},
   "source": [
    "##### Working with numbers in Python"
   ]
  },
  {
   "cell_type": "code",
   "execution_count": 60,
   "id": "8dbb62a7",
   "metadata": {},
   "outputs": [
    {
     "name": "stdout",
     "output_type": "stream",
     "text": [
      "2\n",
      "6.36\n"
     ]
    }
   ],
   "source": [
    "# print out a number\n",
    "print(2)\n",
    "print(6.36)"
   ]
  },
  {
   "cell_type": "code",
   "execution_count": 61,
   "id": "b026b615",
   "metadata": {},
   "outputs": [
    {
     "name": "stdout",
     "output_type": "stream",
     "text": [
      "-2\n",
      "-6.36\n"
     ]
    }
   ],
   "source": [
    "# negative numbers are also valid in python\n",
    "print(-2)\n",
    "print(-6.36)"
   ]
  },
  {
   "cell_type": "code",
   "execution_count": 67,
   "id": "03ac1261",
   "metadata": {},
   "outputs": [
    {
     "name": "stdout",
     "output_type": "stream",
     "text": [
      "7\n",
      "-1\n",
      "12\n",
      "81\n",
      "0.75\n",
      "0\n",
      "0\n"
     ]
    }
   ],
   "source": [
    "# basic arithmetic operations\n",
    "print(3+4) # addition\n",
    "print(3-4) # subtraction\n",
    "print(3*4) # multiplication\n",
    "print(3**4) # exponentiation , raise to a power\n",
    "print(3/4) # division\n",
    "print(3//4) # floor division\n",
    "print(12%4) # modulus - remainder"
   ]
  },
  {
   "cell_type": "code",
   "execution_count": 64,
   "id": "c001081c",
   "metadata": {},
   "outputs": [
    {
     "name": "stdout",
     "output_type": "stream",
     "text": [
      "15\n",
      "21\n",
      "15\n"
     ]
    }
   ],
   "source": [
    "# complex calculations\n",
    "# Use parenthesis for complex calculations\n",
    "print(3*4+3) # in order\n",
    "print(3*(4+3)) # to change order use parenthesis \n",
    "print((3*4)+3)"
   ]
  },
  {
   "cell_type": "code",
   "execution_count": 69,
   "id": "ebc3d5ef",
   "metadata": {},
   "outputs": [
    {
     "name": "stdout",
     "output_type": "stream",
     "text": [
      "7\n",
      "<class 'int'>\n"
     ]
    }
   ],
   "source": [
    "# we can store numbers in variables like strings\n",
    "my_number = 7\n",
    "print(my_number)\n",
    "print(type(my_number))"
   ]
  },
  {
   "cell_type": "code",
   "execution_count": 73,
   "id": "33a033a0",
   "metadata": {},
   "outputs": [
    {
     "name": "stdout",
     "output_type": "stream",
     "text": [
      "7\n",
      "<class 'int'>\n",
      "7\n",
      "<class 'str'>\n",
      "My age is 7\n",
      "6\n",
      "<class 'int'>\n",
      "My age is 6\n"
     ]
    }
   ],
   "source": [
    "# convert a number to a string\n",
    "# also known as Casting in python\n",
    "my_number = 7\n",
    "print(my_number)\n",
    "print(type(my_number))\n",
    "my_number = str(7) # Casting in Python\n",
    "print(my_number)\n",
    "print(type(my_number))\n",
    "print(\"My age is \"+str(my_number))\n",
    "my_number = 6\n",
    "print(my_number)\n",
    "print(type(my_number))\n",
    "# One of the use case is to print a number next to a string\n",
    "print(\"My age is \"+str(my_number))"
   ]
  },
  {
   "cell_type": "code",
   "execution_count": null,
   "id": "1f805b80",
   "metadata": {},
   "outputs": [],
   "source": [
    "# common functions we use for numbers in PythonEx"
   ]
  },
  {
   "cell_type": "code",
   "execution_count": 75,
   "id": "34a9b738",
   "metadata": {},
   "outputs": [
    {
     "name": "stdout",
     "output_type": "stream",
     "text": [
      "6\n"
     ]
    }
   ],
   "source": [
    "# abs() pre defined function\n",
    "my_num = -6\n",
    "print(abs(my_num))"
   ]
  },
  {
   "cell_type": "code",
   "execution_count": 77,
   "id": "af290a33",
   "metadata": {},
   "outputs": [
    {
     "name": "stdout",
     "output_type": "stream",
     "text": [
      "15625\n",
      "15625\n"
     ]
    }
   ],
   "source": [
    "# pow() pre defined function\n",
    "print(pow(5,6)) #  pow(number, power to raise the number)\n",
    "print(5**6)"
   ]
  },
  {
   "cell_type": "code",
   "execution_count": 78,
   "id": "27dfb1ec",
   "metadata": {},
   "outputs": [
    {
     "name": "stdout",
     "output_type": "stream",
     "text": [
      "6\n"
     ]
    }
   ],
   "source": [
    "# max() pre defined function\n",
    "print(max(5,6)) "
   ]
  },
  {
   "cell_type": "code",
   "execution_count": 79,
   "id": "79d0b74e",
   "metadata": {},
   "outputs": [
    {
     "name": "stdout",
     "output_type": "stream",
     "text": [
      "5\n"
     ]
    }
   ],
   "source": [
    "# min() pre defined function\n",
    "print(min(5,6)) "
   ]
  },
  {
   "cell_type": "code",
   "execution_count": 80,
   "id": "04236d84",
   "metadata": {},
   "outputs": [
    {
     "name": "stdout",
     "output_type": "stream",
     "text": [
      "5\n",
      "6\n"
     ]
    }
   ],
   "source": [
    "# round()\n",
    "# follow standard rounding rukes for decimal numbers\n",
    "print(round(5.2)) \n",
    "print(round(5.8)) "
   ]
  },
  {
   "cell_type": "code",
   "execution_count": 85,
   "id": "f5cdf000",
   "metadata": {},
   "outputs": [
    {
     "name": "stdout",
     "output_type": "stream",
     "text": [
      "6\n"
     ]
    }
   ],
   "source": [
    "# floor()\n",
    "print(floor(6.9)) "
   ]
  },
  {
   "cell_type": "code",
   "execution_count": 84,
   "id": "36b3d80e",
   "metadata": {},
   "outputs": [
    {
     "name": "stdout",
     "output_type": "stream",
     "text": [
      "6\n"
     ]
    }
   ],
   "source": [
    "# floor() # round the number down\n",
    "print(floor(6.9)) "
   ]
  },
  {
   "cell_type": "code",
   "execution_count": 86,
   "id": "552d99ae",
   "metadata": {},
   "outputs": [
    {
     "name": "stdout",
     "output_type": "stream",
     "text": [
      "7\n"
     ]
    }
   ],
   "source": [
    "# ceil() # round the number up\n",
    "print(ceil(6.9)) "
   ]
  },
  {
   "cell_type": "code",
   "execution_count": 87,
   "id": "dfe03187",
   "metadata": {},
   "outputs": [
    {
     "name": "stdout",
     "output_type": "stream",
     "text": [
      "10.0\n"
     ]
    }
   ],
   "source": [
    "# sqrt() # round the number up\n",
    "print(sqrt(100)) "
   ]
  },
  {
   "cell_type": "code",
   "execution_count": 82,
   "id": "6927ab0d",
   "metadata": {},
   "outputs": [],
   "source": [
    "# import math module in python if Python does not recognise a math function\n",
    "from math import *\n",
    "# if you are not able to access some function then import and try"
   ]
  },
  {
   "cell_type": "code",
   "execution_count": null,
   "id": "607f8c08",
   "metadata": {},
   "outputs": [],
   "source": [
    "# what we saw are commonly used \n",
    "# there are much more\n",
    "# Refer:https://www.programiz.com/python-programming/modules/math"
   ]
  },
  {
   "cell_type": "markdown",
   "id": "2aed029d",
   "metadata": {},
   "source": [
    "##### Getting input from users"
   ]
  },
  {
   "cell_type": "code",
   "execution_count": null,
   "id": "38b5b59c",
   "metadata": {},
   "outputs": [],
   "source": [
    "# Use input() function to get input from user\n",
    "# input(\"prompt\") prompt displays to the user"
   ]
  },
  {
   "cell_type": "code",
   "execution_count": 89,
   "id": "b5b1761e",
   "metadata": {},
   "outputs": [
    {
     "name": "stdout",
     "output_type": "stream",
     "text": [
      "Enter your name: Arjun Sri\n",
      "Your name is Arjun Sri\n"
     ]
    }
   ],
   "source": [
    "name = input(\"Enter your name: \")\n",
    "print(\"Your name is \" + name )"
   ]
  },
  {
   "cell_type": "code",
   "execution_count": 93,
   "id": "29097837",
   "metadata": {},
   "outputs": [
    {
     "name": "stdout",
     "output_type": "stream",
     "text": [
      "Enter your name: Sriraam Arjun Sri\n",
      "Enter your age: 16\n",
      "Your name is Sriraam Arjun Sri ,Your age is 16.\n"
     ]
    }
   ],
   "source": [
    "# can get many info from the users\n",
    "name = input(\"Enter your name: \")\n",
    "age = input(\"Enter your age: \")\n",
    "print(\"Your name is \" + name + \" ,Your age is \" + age + '.')"
   ]
  },
  {
   "cell_type": "code",
   "execution_count": 94,
   "id": "a87c7e56",
   "metadata": {},
   "outputs": [
    {
     "name": "stdout",
     "output_type": "stream",
     "text": [
      "<class 'str'>\n",
      "<class 'str'>\n"
     ]
    }
   ],
   "source": [
    "# by default it accepts string\n",
    "print(type(name))\n",
    "print(type(age))"
   ]
  },
  {
   "cell_type": "code",
   "execution_count": 95,
   "id": "15a73aeb",
   "metadata": {},
   "outputs": [
    {
     "name": "stdout",
     "output_type": "stream",
     "text": [
      "Enter your age: 12\n"
     ]
    }
   ],
   "source": [
    "# use casting to change\n",
    "age = int(input(\"Enter your age: \"))\n",
    "# not recommended as it may raise error......"
   ]
  },
  {
   "cell_type": "code",
   "execution_count": 96,
   "id": "d595961e",
   "metadata": {},
   "outputs": [
    {
     "name": "stdout",
     "output_type": "stream",
     "text": [
      "<class 'int'>\n"
     ]
    }
   ],
   "source": [
    "print(type(age))"
   ]
  },
  {
   "cell_type": "markdown",
   "id": "7c9a38d5",
   "metadata": {},
   "source": [
    "##### Let's build a basic calculator"
   ]
  },
  {
   "cell_type": "code",
   "execution_count": 98,
   "id": "8a523cd0",
   "metadata": {},
   "outputs": [
    {
     "name": "stdout",
     "output_type": "stream",
     "text": [
      "Enter the first number: 1\n",
      "Enter the second number: 5\n",
      "15\n"
     ]
    }
   ],
   "source": [
    "number_1 = input(\"Enter the first number: \")\n",
    "number_2 = input(\"Enter the second number: \")\n",
    "result = number_1 + number_2\n",
    "print(result)\n",
    "# It will acts as strings and concatenated the strings\n",
    "# by default the input received is a string......"
   ]
  },
  {
   "cell_type": "code",
   "execution_count": 99,
   "id": "2e36412e",
   "metadata": {},
   "outputs": [
    {
     "name": "stdout",
     "output_type": "stream",
     "text": [
      "Enter the first number: 2\n",
      "Enter the second number: 2\n",
      "4\n",
      "4\n"
     ]
    }
   ],
   "source": [
    "number_1 = input(\"Enter the first number: \")\n",
    "number_2 = input(\"Enter the second number: \")\n",
    "result = int(number_1) + int(number_2)\n",
    "print(result)"
   ]
  },
  {
   "cell_type": "code",
   "execution_count": 101,
   "id": "34b58fc4",
   "metadata": {},
   "outputs": [
    {
     "name": "stdout",
     "output_type": "stream",
     "text": [
      "Enter the first number: 9.0\n",
      "Enter the second number: 6.9\n"
     ]
    },
    {
     "ename": "ValueError",
     "evalue": "invalid literal for int() with base 10: '9.0'",
     "output_type": "error",
     "traceback": [
      "\u001b[1;31m---------------------------------------------------------------------------\u001b[0m",
      "\u001b[1;31mValueError\u001b[0m                                Traceback (most recent call last)",
      "\u001b[1;32m~\\AppData\\Local\\Temp/ipykernel_1836/3588829043.py\u001b[0m in \u001b[0;36m<module>\u001b[1;34m\u001b[0m\n\u001b[0;32m      2\u001b[0m \u001b[0mnumber_1\u001b[0m \u001b[1;33m=\u001b[0m \u001b[0minput\u001b[0m\u001b[1;33m(\u001b[0m\u001b[1;34m\"Enter the first number: \"\u001b[0m\u001b[1;33m)\u001b[0m\u001b[1;33m\u001b[0m\u001b[1;33m\u001b[0m\u001b[0m\n\u001b[0;32m      3\u001b[0m \u001b[0mnumber_2\u001b[0m \u001b[1;33m=\u001b[0m \u001b[0minput\u001b[0m\u001b[1;33m(\u001b[0m\u001b[1;34m\"Enter the second number: \"\u001b[0m\u001b[1;33m)\u001b[0m\u001b[1;33m\u001b[0m\u001b[1;33m\u001b[0m\u001b[0m\n\u001b[1;32m----> 4\u001b[1;33m \u001b[0mresult\u001b[0m \u001b[1;33m=\u001b[0m \u001b[0mint\u001b[0m\u001b[1;33m(\u001b[0m\u001b[0mnumber_1\u001b[0m\u001b[1;33m)\u001b[0m \u001b[1;33m+\u001b[0m \u001b[0mint\u001b[0m\u001b[1;33m(\u001b[0m\u001b[0mnumber_2\u001b[0m\u001b[1;33m)\u001b[0m\u001b[1;33m\u001b[0m\u001b[1;33m\u001b[0m\u001b[0m\n\u001b[0m\u001b[0;32m      5\u001b[0m \u001b[0mprint\u001b[0m\u001b[1;33m(\u001b[0m\u001b[0mresult\u001b[0m\u001b[1;33m)\u001b[0m\u001b[1;33m\u001b[0m\u001b[1;33m\u001b[0m\u001b[0m\n",
      "\u001b[1;31mValueError\u001b[0m: invalid literal for int() with base 10: '9.0'"
     ]
    }
   ],
   "source": [
    "# results in error if a number is not a whole number\n",
    "number_1 = input(\"Enter the first number: \")\n",
    "number_2 = input(\"Enter the second number: \")\n",
    "result = int(number_1) + int(number_2)\n",
    "print(result)"
   ]
  },
  {
   "cell_type": "code",
   "execution_count": 103,
   "id": "7eb2b737",
   "metadata": {},
   "outputs": [
    {
     "name": "stdout",
     "output_type": "stream",
     "text": [
      "Enter the first number: 7.6\n",
      "Enter the second number: 8.9\n",
      "16.5\n"
     ]
    }
   ],
   "source": [
    "# use float can handle both whole and decimal\n",
    "number_1 = input(\"Enter the first number: \")\n",
    "number_2 = input(\"Enter the second number: \")\n",
    "result = float(number_1) + float(number_2)\n",
    "print(result)"
   ]
  },
  {
   "cell_type": "code",
   "execution_count": null,
   "id": "c8939a18",
   "metadata": {},
   "outputs": [],
   "source": [
    "# depends on what you need to code use int() or float()accordingly"
   ]
  },
  {
   "cell_type": "markdown",
   "id": "c3925754",
   "metadata": {},
   "source": [
    "##### Mad Libs game"
   ]
  },
  {
   "cell_type": "code",
   "execution_count": 107,
   "id": "90b4cceb",
   "metadata": {},
   "outputs": [
    {
     "name": "stdout",
     "output_type": "stream",
     "text": [
      "Enter a person: Trudeau\n",
      "Enter a adjective: patient\n",
      "Enter a skill: listening\n",
      "Who likes Trudeau\n",
      "That person is patient\n",
      "We should learn listening from that person\n"
     ]
    }
   ],
   "source": [
    "person = input(\"Enter a person: \")\n",
    "adjective = input(\"Enter a adjective: \")\n",
    "skill = input(\"Enter a skill: \")\n",
    "print(\"Who likes \" + person)\n",
    "print(\"That person is \" + adjective)\n",
    "print(\"We should learn \" + skill + \" from that person.\")"
   ]
  },
  {
   "cell_type": "code",
   "execution_count": null,
   "id": "e044c06b",
   "metadata": {},
   "outputs": [],
   "source": [
    "# Create a Mad libs game - make your own"
   ]
  },
  {
   "cell_type": "markdown",
   "id": "a24443a9",
   "metadata": {},
   "source": [
    "##### Working with lists in Python"
   ]
  },
  {
   "cell_type": "code",
   "execution_count": null,
   "id": "17776d6b",
   "metadata": {},
   "outputs": [],
   "source": [
    "# Organize data we can use lists whch is one among the collection in Python"
   ]
  },
  {
   "cell_type": "code",
   "execution_count": null,
   "id": "add567b2",
   "metadata": {},
   "outputs": [],
   "source": [
    "# Create a list\n",
    "# We create a list like how we declare a variable"
   ]
  },
  {
   "cell_type": "code",
   "execution_count": 2,
   "id": "7ea4f77b",
   "metadata": {},
   "outputs": [
    {
     "name": "stdout",
     "output_type": "stream",
     "text": [
      "['Bala', 'Sridhar', 'David']\n",
      "<class 'list'>\n"
     ]
    }
   ],
   "source": [
    "# method 1\n",
    "# list_variable_name = []\n",
    "colleagues = ['Bala','Sridhar','David']\n",
    "print(colleagues)\n",
    "print(type(colleagues))"
   ]
  },
  {
   "cell_type": "code",
   "execution_count": 3,
   "id": "88a410aa",
   "metadata": {},
   "outputs": [
    {
     "name": "stdout",
     "output_type": "stream",
     "text": [
      "['Bala', 'Sridhar', 'David']\n",
      "<class 'list'>\n"
     ]
    }
   ],
   "source": [
    "# method 2\n",
    "# list_variable_name = list((list_values))\n",
    "colleagues = list(('Bala','Sridhar','David'))\n",
    "print(colleagues)\n",
    "print(type(colleagues))"
   ]
  },
  {
   "cell_type": "code",
   "execution_count": 5,
   "id": "e30cead0",
   "metadata": {},
   "outputs": [
    {
     "name": "stdout",
     "output_type": "stream",
     "text": [
      "['Arjun', 16, True, ['datascientist', 'senior']]\n",
      "<class 'list'>\n",
      "Arjun\n",
      "<class 'str'>\n",
      "16\n",
      "<class 'int'>\n",
      "True\n",
      "<class 'bool'>\n",
      "['datascientist', 'senior']\n",
      "<class 'list'>\n",
      "['datascientist', 'senior']\n",
      "<class 'list'>\n",
      "True\n",
      "<class 'bool'>\n",
      "16\n",
      "<class 'int'>\n",
      "Arjun\n",
      "<class 'str'>\n"
     ]
    }
   ],
   "source": [
    "# a list can have many datatypes like str, int, float,bool,list and other collections like tuple, dictionary etc.\n",
    "employee = ['Arjun',16,True,['datascientist','senior']]\n",
    "# access elements using index \n",
    "# postive index : 0 - first item, 1 - second item, 2- third item and so on\n",
    "print(employee)\n",
    "print(type(employee))\n",
    "print(employee[0])\n",
    "print(type(employee[0]))\n",
    "print(employee[1])\n",
    "print(type(employee[1]))\n",
    "print(employee[2])\n",
    "print(type(employee[2]))\n",
    "print(employee[3])\n",
    "print(type(employee[3]))\n",
    "# negative index : -1 - last item, -2 - second last item, -3 third last item and so on\n",
    "print(employee[-1])\n",
    "print(type(employee[-1]))\n",
    "print(employee[-2])\n",
    "print(type(employee[-2]))\n",
    "print(employee[-3])\n",
    "print(type(employee[-3]))\n",
    "print(employee[-4])\n",
    "print(type(employee[-4]))"
   ]
  },
  {
   "cell_type": "code",
   "execution_count": 6,
   "id": "21cb458c",
   "metadata": {},
   "outputs": [
    {
     "name": "stdout",
     "output_type": "stream",
     "text": [
      "['Arjun', 16]\n",
      "['Arjun', 16]\n",
      "['Arjun', 16, True, ['datascientist', 'senior']]\n"
     ]
    }
   ],
   "source": [
    "# range of indices - always use positive indices to avoid errors\n",
    "employee = ['Arjun',16,True,['datascientist','senior']]\n",
    "print(employee[0:2]) # o is the start index and 2 is the end index, it includes the start index but not the end index.\n",
    "print(employee[:2]) # If you dont mention the start index it starts from zero.\n",
    "print(employee[0:]) # If you dont mention the end index it considers till the last item of the list....."
   ]
  },
  {
   "cell_type": "code",
   "execution_count": 7,
   "id": "370937d2",
   "metadata": {},
   "outputs": [
    {
     "name": "stdout",
     "output_type": "stream",
     "text": [
      "['Arjun', 16, True, ['datascientist', 'senior']]\n",
      "['Boyong Lee', 16, True, ['datascientist', 'senior']]\n"
     ]
    }
   ],
   "source": [
    "# update lists in Python\n",
    "employee = ['Arjun',16,True,['datascientist','senior']]\n",
    "print(employee)\n",
    "employee[0] = \"Boyong Lee\"\n",
    "print(employee)"
   ]
  },
  {
   "cell_type": "markdown",
   "id": "5c60425a",
   "metadata": {},
   "source": [
    "##### List functions in Python"
   ]
  },
  {
   "cell_type": "code",
   "execution_count": 8,
   "id": "c6a25cc4",
   "metadata": {},
   "outputs": [
    {
     "name": "stdout",
     "output_type": "stream",
     "text": [
      "['HBO', 'Star Movies', 'Sun TV', 'Thanthi TV', 'Jaya TV', 'Pogo']\n",
      "['comedy', 'action', 'kids', 'news']\n"
     ]
    }
   ],
   "source": [
    "tv_channels = ['HBO','Star Movies','Sun TV','Thanthi TV','Jaya TV','Pogo']\n",
    "genre = ['comedy','action','kids','news']\n",
    "# print out lists using print()\n",
    "print(tv_channels)\n",
    "print(genre)"
   ]
  },
  {
   "cell_type": "code",
   "execution_count": 9,
   "id": "42093c7e",
   "metadata": {},
   "outputs": [
    {
     "name": "stdout",
     "output_type": "stream",
     "text": [
      "['HBO', 'Star Movies', 'Sun TV', 'Thanthi TV', 'Jaya TV', 'Pogo', 'comedy', 'action', 'kids', 'news']\n"
     ]
    }
   ],
   "source": [
    "# use extend to add a list as items to another list - unpack a list and add items\n",
    "# extend() \n",
    "tv_channels.extend(genre)\n",
    "print(tv_channels)"
   ]
  },
  {
   "cell_type": "code",
   "execution_count": 10,
   "id": "f773ceb7",
   "metadata": {},
   "outputs": [
    {
     "name": "stdout",
     "output_type": "stream",
     "text": [
      "['HBO', 'Star Movies', 'Sun TV', 'Thanthi TV', 'Jaya TV', 'Pogo', 'comedy', 'action', 'kids', 'news', ['comedy', 'action', 'kids', 'news']]\n"
     ]
    }
   ],
   "source": [
    "# use append to add as a list directly without unpacking\n",
    "# append()\n",
    "tv_channels.append(genre)\n",
    "print(tv_channels)"
   ]
  },
  {
   "cell_type": "code",
   "execution_count": 11,
   "id": "cdd387e5",
   "metadata": {},
   "outputs": [
    {
     "name": "stdout",
     "output_type": "stream",
     "text": [
      "['HBO', 'Star Movies', 'Sun TV', 'Thanthi TV', 'Jaya TV', 'Pogo', 'comedy', 'action', 'kids', 'news', ['comedy', 'action', 'kids', 'news'], 'Animax']\n"
     ]
    }
   ],
   "source": [
    "# append individual items - append() always add items to the end of a list\n",
    "# append()\n",
    "tv_channels.append(\"Animax\")\n",
    "print(tv_channels)"
   ]
  },
  {
   "cell_type": "code",
   "execution_count": 14,
   "id": "cd414afe",
   "metadata": {},
   "outputs": [
    {
     "name": "stdout",
     "output_type": "stream",
     "text": [
      "['HBO', 'Star Movies', 'Chutti TV', 'Chutti TV', 'Sun TV', 'Thanthi TV', 'Jaya TV', 'Pogo', 'comedy', 'action', 'kids', 'news', ['comedy', 'action', 'kids', 'news'], 'Animax']\n",
      "Chutti TV\n"
     ]
    }
   ],
   "source": [
    "# since there is a limitation in using append because it adds the item to the end of the list\n",
    "# use insert to insert at a specified index\n",
    "# insert()\n",
    "tv_channels.insert(2,'Chutti TV')\n",
    "print(tv_channels)\n",
    "print(tv_channels[2])"
   ]
  },
  {
   "cell_type": "code",
   "execution_count": 15,
   "id": "26a14a6a",
   "metadata": {},
   "outputs": [
    {
     "name": "stdout",
     "output_type": "stream",
     "text": [
      "['HBO', 'Star Movies', 'Chutti TV', 'Sun TV', 'Thanthi TV', 'Jaya TV', 'Pogo', 'comedy', 'action', 'kids', 'news', ['comedy', 'action', 'kids', 'news'], 'Animax']\n"
     ]
    }
   ],
   "source": [
    "# remove items from a list\n",
    "#remove()\n",
    "tv_channels.remove('Chutti TV') # if there are duplicates it removes the first found in order of positive index\n",
    "print(tv_channels)"
   ]
  },
  {
   "cell_type": "code",
   "execution_count": 16,
   "id": "084f89d6",
   "metadata": {},
   "outputs": [
    {
     "name": "stdout",
     "output_type": "stream",
     "text": [
      "['HBO', 'Star Movies', 'Chutti TV', 'Sun TV', 'Thanthi TV', 'Jaya TV', 'Pogo', 'comedy', 'action', 'kids', 'news', ['comedy', 'action', 'kids', 'news'], 'Animax']\n",
      "['HBO', 'Star Movies', 'Chutti TV', 'Sun TV', 'Thanthi TV', 'Jaya TV', 'Pogo', 'comedy', 'action', 'kids', 'news', ['comedy', 'action', 'kids', 'news']]\n"
     ]
    }
   ],
   "source": [
    "# pop() removes the last item in the list\n",
    "# pop()\n",
    "print(tv_channels)\n",
    "tv_channels.pop() # it removes the last item\n",
    "print(tv_channels)"
   ]
  },
  {
   "cell_type": "code",
   "execution_count": 17,
   "id": "8e96fd5d",
   "metadata": {},
   "outputs": [
    {
     "name": "stdout",
     "output_type": "stream",
     "text": [
      "['HBO', 'Star Movies', 'Chutti TV', 'Sun TV', 'Thanthi TV', 'Jaya TV', 'Pogo', 'comedy', 'action', 'kids', 'news', ['comedy', 'action', 'kids', 'news']]\n",
      "[]\n"
     ]
    }
   ],
   "source": [
    "# clear() empties the list\n",
    "print(tv_channels)\n",
    "tv_channels.clear() # it clears or removes all the items in a list to return an empty list\n",
    "print(tv_channels)"
   ]
  },
  {
   "cell_type": "code",
   "execution_count": 18,
   "id": "3b914af5",
   "metadata": {},
   "outputs": [
    {
     "name": "stdout",
     "output_type": "stream",
     "text": [
      "[]\n"
     ]
    },
    {
     "ename": "NameError",
     "evalue": "name 'tv_channels' is not defined",
     "output_type": "error",
     "traceback": [
      "\u001b[1;31m---------------------------------------------------------------------------\u001b[0m",
      "\u001b[1;31mNameError\u001b[0m                                 Traceback (most recent call last)",
      "\u001b[1;32m~\\AppData\\Local\\Temp/ipykernel_1892/2755293602.py\u001b[0m in \u001b[0;36m<module>\u001b[1;34m\u001b[0m\n\u001b[0;32m      2\u001b[0m \u001b[0mprint\u001b[0m\u001b[1;33m(\u001b[0m\u001b[0mtv_channels\u001b[0m\u001b[1;33m)\u001b[0m\u001b[1;33m\u001b[0m\u001b[1;33m\u001b[0m\u001b[0m\n\u001b[0;32m      3\u001b[0m \u001b[1;32mdel\u001b[0m \u001b[0mtv_channels\u001b[0m \u001b[1;31m# it removes the last item\u001b[0m\u001b[1;33m\u001b[0m\u001b[1;33m\u001b[0m\u001b[0m\n\u001b[1;32m----> 4\u001b[1;33m \u001b[0mprint\u001b[0m\u001b[1;33m(\u001b[0m\u001b[0mtv_channels\u001b[0m\u001b[1;33m)\u001b[0m\u001b[1;33m\u001b[0m\u001b[1;33m\u001b[0m\u001b[0m\n\u001b[0m",
      "\u001b[1;31mNameError\u001b[0m: name 'tv_channels' is not defined"
     ]
    }
   ],
   "source": [
    "# del keyword deletes the entire list\n",
    "print(tv_channels)\n",
    "del tv_channels # it dletes the entire list from memory\n",
    "print(tv_channels)"
   ]
  },
  {
   "cell_type": "code",
   "execution_count": 20,
   "id": "ab0c0ddd",
   "metadata": {},
   "outputs": [
    {
     "name": "stdout",
     "output_type": "stream",
     "text": [
      "7\n",
      "2\n"
     ]
    },
    {
     "ename": "ValueError",
     "evalue": "'E TV' is not in list",
     "output_type": "error",
     "traceback": [
      "\u001b[1;31m---------------------------------------------------------------------------\u001b[0m",
      "\u001b[1;31mValueError\u001b[0m                                Traceback (most recent call last)",
      "\u001b[1;32m~\\AppData\\Local\\Temp/ipykernel_1892/3570384654.py\u001b[0m in \u001b[0;36m<module>\u001b[1;34m\u001b[0m\n\u001b[0;32m      4\u001b[0m \u001b[0mprint\u001b[0m\u001b[1;33m(\u001b[0m\u001b[0mtv_channels\u001b[0m\u001b[1;33m.\u001b[0m\u001b[0mindex\u001b[0m\u001b[1;33m(\u001b[0m\u001b[1;34m'Pogo'\u001b[0m\u001b[1;33m)\u001b[0m\u001b[1;33m)\u001b[0m \u001b[1;31m# it returns the index of an item as integer\u001b[0m\u001b[1;33m\u001b[0m\u001b[1;33m\u001b[0m\u001b[0m\n\u001b[0;32m      5\u001b[0m \u001b[0mprint\u001b[0m\u001b[1;33m(\u001b[0m\u001b[0mtv_channels\u001b[0m\u001b[1;33m.\u001b[0m\u001b[0mindex\u001b[0m\u001b[1;33m(\u001b[0m\u001b[1;34m'Chutti TV'\u001b[0m\u001b[1;33m)\u001b[0m\u001b[1;33m)\u001b[0m \u001b[1;31m# If there are duplicate items it returns the first found in positive index order\u001b[0m\u001b[1;33m\u001b[0m\u001b[1;33m\u001b[0m\u001b[0m\n\u001b[1;32m----> 6\u001b[1;33m \u001b[0mprint\u001b[0m\u001b[1;33m(\u001b[0m\u001b[0mtv_channels\u001b[0m\u001b[1;33m.\u001b[0m\u001b[0mindex\u001b[0m\u001b[1;33m(\u001b[0m\u001b[1;34m'E TV'\u001b[0m\u001b[1;33m)\u001b[0m\u001b[1;33m)\u001b[0m \u001b[1;31m# error if not in the list\u001b[0m\u001b[1;33m\u001b[0m\u001b[1;33m\u001b[0m\u001b[0m\n\u001b[0m",
      "\u001b[1;31mValueError\u001b[0m: 'E TV' is not in list"
     ]
    }
   ],
   "source": [
    "# to find the index of an item in the list\n",
    "# index()\n",
    "tv_channels = ['HBO', 'Star Movies', 'Chutti TV', 'Chutti TV', 'Sun TV', 'Thanthi TV', 'Jaya TV', 'Pogo', 'comedy', 'action', 'kids', 'news', ['comedy', 'action', 'kids', 'news'], 'Animax']\n",
    "print(tv_channels.index('Pogo')) # it returns the index of an item as integer\n",
    "print(tv_channels.index('Chutti TV')) # If there are duplicate items it returns the first found in positive index order\n",
    "print(tv_channels.index('E TV')) # error if not in the list - ValueError "
   ]
  },
  {
   "cell_type": "code",
   "execution_count": 21,
   "id": "46fc23a3",
   "metadata": {},
   "outputs": [
    {
     "name": "stdout",
     "output_type": "stream",
     "text": [
      "2\n"
     ]
    }
   ],
   "source": [
    "# count the number of a particular item in a list\n",
    "# count()\n",
    "tv_channels = ['HBO', 'Star Movies', 'Chutti TV', 'Chutti TV', 'Sun TV', 'Thanthi TV', 'Jaya TV', 'Pogo', 'comedy', 'action', 'kids', 'news', ['comedy', 'action', 'kids', 'news'], 'Animax']\n",
    "print(tv_channels.count('Chutti TV')) # it returns as integer the number of times the item is present in the list........."
   ]
  },
  {
   "cell_type": "code",
   "execution_count": 22,
   "id": "1ce38116",
   "metadata": {},
   "outputs": [
    {
     "name": "stdout",
     "output_type": "stream",
     "text": [
      "['HBO', 'Star Movies', 'Chutti TV', 'Chutti TV', 'Sun TV', 'Thanthi TV', 'Jaya TV', 'Pogo', 'comedy', 'action', 'kids', 'news', ['comedy', 'action', 'kids', 'news'], 'Animax']\n"
     ]
    },
    {
     "ename": "TypeError",
     "evalue": "'<' not supported between instances of 'list' and 'str'",
     "output_type": "error",
     "traceback": [
      "\u001b[1;31m---------------------------------------------------------------------------\u001b[0m",
      "\u001b[1;31mTypeError\u001b[0m                                 Traceback (most recent call last)",
      "\u001b[1;32m~\\AppData\\Local\\Temp/ipykernel_1892/2819950382.py\u001b[0m in \u001b[0;36m<module>\u001b[1;34m\u001b[0m\n\u001b[0;32m      2\u001b[0m \u001b[1;31m# ascending order is the default\u001b[0m\u001b[1;33m\u001b[0m\u001b[1;33m\u001b[0m\u001b[0m\n\u001b[0;32m      3\u001b[0m \u001b[0mprint\u001b[0m\u001b[1;33m(\u001b[0m\u001b[0mtv_channels\u001b[0m\u001b[1;33m)\u001b[0m\u001b[1;33m\u001b[0m\u001b[1;33m\u001b[0m\u001b[0m\n\u001b[1;32m----> 4\u001b[1;33m \u001b[0mtv_channels\u001b[0m\u001b[1;33m.\u001b[0m\u001b[0msort\u001b[0m\u001b[1;33m(\u001b[0m\u001b[1;33m)\u001b[0m\u001b[1;33m\u001b[0m\u001b[1;33m\u001b[0m\u001b[0m\n\u001b[0m\u001b[0;32m      5\u001b[0m \u001b[0mprint\u001b[0m\u001b[1;33m(\u001b[0m\u001b[0mtv_channels\u001b[0m\u001b[1;33m)\u001b[0m\u001b[1;33m\u001b[0m\u001b[1;33m\u001b[0m\u001b[0m\n",
      "\u001b[1;31mTypeError\u001b[0m: '<' not supported between instances of 'list' and 'str'"
     ]
    }
   ],
   "source": [
    "# sort the list\n",
    "# ascending order is the default\n",
    "print(tv_channels)\n",
    "tv_channels.sort() # it works only if there are items of same datatype in a List\n",
    "print(tv_channels)"
   ]
  },
  {
   "cell_type": "code",
   "execution_count": 23,
   "id": "ea792f2c",
   "metadata": {},
   "outputs": [
    {
     "name": "stdout",
     "output_type": "stream",
     "text": [
      "['HBO', 'Star Movies', 'Chutti TV', 'Chutti TV', 'Sun TV', 'Thanthi TV', 'Jaya TV', 'Pogo', 'comedy', 'action', 'kids', 'news', 'Animax']\n",
      "['Animax', 'Chutti TV', 'Chutti TV', 'HBO', 'Jaya TV', 'Pogo', 'Star Movies', 'Sun TV', 'Thanthi TV', 'action', 'comedy', 'kids', 'news']\n"
     ]
    }
   ],
   "source": [
    "# sort()\n",
    "tv_channels = ['HBO', 'Star Movies', 'Chutti TV', 'Chutti TV', 'Sun TV', 'Thanthi TV', 'Jaya TV', 'Pogo', 'comedy', 'action', 'kids', 'news', 'Animax']\n",
    "print(tv_channels)\n",
    "tv_channels.sort() # priority is for Capital aplphabets first then followed by small letter or lower case letters\n",
    "print(tv_channels)"
   ]
  },
  {
   "cell_type": "code",
   "execution_count": 24,
   "id": "c2de4fb8",
   "metadata": {},
   "outputs": [
    {
     "name": "stdout",
     "output_type": "stream",
     "text": [
      "[6, 2, 4, 4, 2, 2, 4, 6, 6, 8, 18, 14, 14, 14, 20, 100, 96]\n",
      "[2, 2, 2, 4, 4, 4, 6, 6, 6, 8, 14, 14, 14, 18, 20, 96, 100]\n"
     ]
    }
   ],
   "source": [
    "# sort() - numbers example\n",
    "even_numbers = [6,2,4,4,2,2,4,6,6,8,18,14,14,14,20,100,96]\n",
    "print(even_numbers)\n",
    "even_numbers.sort()\n",
    "print(even_numbers)"
   ]
  },
  {
   "cell_type": "code",
   "execution_count": 25,
   "id": "a33a82ac",
   "metadata": {},
   "outputs": [
    {
     "name": "stdout",
     "output_type": "stream",
     "text": [
      "[6, 2, 4, 4, 2, 2, 4, 6, 6, 8, 18, 14, 14, 14, 20, 100, 96]\n",
      "[100, 96, 20, 18, 14, 14, 14, 8, 6, 6, 6, 4, 4, 4, 2, 2, 2]\n"
     ]
    }
   ],
   "source": [
    "# if you want descending (reverse=True)\n",
    "even_numbers = [6,2,4,4,2,2,4,6,6,8,18,14,14,14,20,100,96]\n",
    "print(even_numbers)\n",
    "even_numbers.sort(reverse=True)\n",
    "print(even_numbers)"
   ]
  },
  {
   "cell_type": "code",
   "execution_count": 26,
   "id": "8d01d7a1",
   "metadata": {},
   "outputs": [
    {
     "name": "stdout",
     "output_type": "stream",
     "text": [
      "[100, 96, 20, 18, 14, 14, 14, 8, 6, 6, 6, 4, 4, 4, 2, 2, 2]\n",
      "[2, 2, 2, 4, 4, 4, 6, 6, 6, 8, 14, 14, 14, 18, 20, 96, 100]\n"
     ]
    }
   ],
   "source": [
    "# we can reverse a list\n",
    "# Using reverse()\n",
    "print(even_numbers)\n",
    "even_numbers.reverse()\n",
    "print(even_numbers)"
   ]
  },
  {
   "cell_type": "code",
   "execution_count": 27,
   "id": "f2e50abf",
   "metadata": {},
   "outputs": [
    {
     "name": "stdout",
     "output_type": "stream",
     "text": [
      "[2, 2, 2, 4, 4, 4, 6, 6, 6, 8, 14, 14, 14, 18, 20, 96, 100]\n",
      "[2, 2, 2, 4, 4, 4, 6, 6, 6, 8, 14, 14, 14, 18, 20, 96, 100]\n",
      "[2, 2, 2, 4, 4, 4, 6, 6, 6, 8, 14, 14, 14, 18, 20, 96, 100, 110]\n",
      "[2, 2, 2, 4, 4, 4, 6, 6, 6, 8, 14, 14, 14, 18, 20, 96, 100]\n"
     ]
    }
   ],
   "source": [
    "# copy a list\n",
    "numbers = even_numbers.copy()\n",
    "print(numbers)\n",
    "print(even_numbers)\n",
    "numbers.append(110)\n",
    "print(numbers)\n",
    "print(even_numbers)"
   ]
  },
  {
   "cell_type": "markdown",
   "id": "0179a886",
   "metadata": {},
   "source": [
    "##### Working with Tuples in Python"
   ]
  },
  {
   "cell_type": "code",
   "execution_count": null,
   "id": "29b6f4c9",
   "metadata": {},
   "outputs": [],
   "source": [
    "# A tuple is very similar to lists\n",
    "# The key difference is that tuple is unchangeable/ not modified or immutable , only way to do that is to convert it to a list, cahnge it and convert it back to a tuple"
   ]
  },
  {
   "cell_type": "code",
   "execution_count": 30,
   "id": "a9fe0835",
   "metadata": {},
   "outputs": [
    {
     "name": "stdout",
     "output_type": "stream",
     "text": [
      "('Mystic Force', 'Dino Thunder', 'Ninja Storm', 'SPD', 'Samurai', 'Time Travel')\n",
      "<class 'tuple'>\n"
     ]
    }
   ],
   "source": [
    "# Create a tuple\n",
    "# method 1 - Use () parenthesis\n",
    "power_rangers = (\"Mystic Force\",\"Dino Thunder\",\"Ninja Storm\",\"SPD\",\"Samurai\",\"Time Travel\")\n",
    "print(power_rangers)\n",
    "print(type(power_rangers))"
   ]
  },
  {
   "cell_type": "code",
   "execution_count": 31,
   "id": "4f0dda01",
   "metadata": {},
   "outputs": [
    {
     "name": "stdout",
     "output_type": "stream",
     "text": [
      "('Mystic Force', 'Dino Thunder', 'Ninja Storm', 'SPD', 'Samurai', 'Time Travel')\n",
      "<class 'tuple'>\n"
     ]
    }
   ],
   "source": [
    "# Create a tuple\n",
    "# method 2- Use tuple()\n",
    "power_rangers = tuple((\"Mystic Force\",\"Dino Thunder\",\"Ninja Storm\",\"SPD\",\"Samurai\",\"Time Travel\"))\n",
    "print(power_rangers)\n",
    "print(type(power_rangers))"
   ]
  },
  {
   "cell_type": "code",
   "execution_count": 32,
   "id": "f4515421",
   "metadata": {},
   "outputs": [
    {
     "name": "stdout",
     "output_type": "stream",
     "text": [
      "('Mystic Force', 'Dino Thunder', 'Ninja Storm', 'SPD', 'Samurai', 'Time Travel')\n",
      "<class 'tuple'>\n",
      "Mystic Force\n",
      "Dino Thunder\n",
      "Ninja Storm\n",
      "SPD\n",
      "Time Travel\n",
      "Samurai\n",
      "SPD\n",
      "Ninja Storm\n"
     ]
    }
   ],
   "source": [
    "# Accessing a Tuple is same as accessing a list\n",
    "# access elements using index \n",
    "# postive index : 0 - first item, 1 - second item, 2- third item and so on\n",
    "print(power_rangers)\n",
    "print(type(power_rangers))\n",
    "print(power_rangers[0])\n",
    "print(power_rangers[1])\n",
    "print(power_rangers[2])\n",
    "print(power_rangers[3])\n",
    "# negative index : -1 - last item, -2 - second last item, -3 third last item and so on\n",
    "print(power_rangers[-1])\n",
    "print(power_rangers[-2])\n",
    "print(power_rangers[-3])\n",
    "print(power_rangers[-4])"
   ]
  },
  {
   "cell_type": "code",
   "execution_count": 33,
   "id": "13663ba7",
   "metadata": {},
   "outputs": [
    {
     "name": "stdout",
     "output_type": "stream",
     "text": [
      "('Mystic Force', 'Dino Thunder')\n",
      "('Mystic Force', 'Dino Thunder')\n",
      "('Mystic Force', 'Dino Thunder', 'Ninja Storm', 'SPD', 'Samurai', 'Time Travel')\n"
     ]
    }
   ],
   "source": [
    "# range of indices - always use positive indices to avoid errors\n",
    "print(power_rangers[0:2]) # o is the start index and 2 is the end index, it includes the start index but not the end index.\n",
    "print(power_rangers[:2]) # If you dont mention the start index it starts from zero.\n",
    "print(power_rangers[0:]) # If you dont mention the end index it considers till the last item of the list....."
   ]
  },
  {
   "cell_type": "code",
   "execution_count": null,
   "id": "9d8683de",
   "metadata": {},
   "outputs": [],
   "source": [
    "# Key difference between Tuple and list\n",
    "# After creating a Tuple you cannot change or modify a Tuple , also known as immutable characteristic of a Tuple......"
   ]
  },
  {
   "cell_type": "code",
   "execution_count": null,
   "id": "53e76487",
   "metadata": {},
   "outputs": [],
   "source": [
    "# CRUD - We can create and read Tuple but not update and delete it"
   ]
  },
  {
   "cell_type": "code",
   "execution_count": 35,
   "id": "a349fd8a",
   "metadata": {},
   "outputs": [
    {
     "ename": "TypeError",
     "evalue": "'tuple' object does not support item assignment",
     "output_type": "error",
     "traceback": [
      "\u001b[1;31m---------------------------------------------------------------------------\u001b[0m",
      "\u001b[1;31mTypeError\u001b[0m                                 Traceback (most recent call last)",
      "\u001b[1;32m~\\AppData\\Local\\Temp/ipykernel_1892/1272438121.py\u001b[0m in \u001b[0;36m<module>\u001b[1;34m\u001b[0m\n\u001b[1;32m----> 1\u001b[1;33m \u001b[0mpower_rangers\u001b[0m\u001b[1;33m[\u001b[0m\u001b[1;36m2\u001b[0m\u001b[1;33m]\u001b[0m \u001b[1;33m=\u001b[0m \u001b[1;34m'Jungle Fury'\u001b[0m\u001b[1;33m\u001b[0m\u001b[1;33m\u001b[0m\u001b[0m\n\u001b[0m",
      "\u001b[1;31mTypeError\u001b[0m: 'tuple' object does not support item assignment"
     ]
    }
   ],
   "source": [
    "power_rangers[2] = 'Jungle Fury'"
   ]
  },
  {
   "cell_type": "code",
   "execution_count": 34,
   "id": "9dc50d27",
   "metadata": {},
   "outputs": [
    {
     "ename": "AttributeError",
     "evalue": "'tuple' object has no attribute 'clear'",
     "output_type": "error",
     "traceback": [
      "\u001b[1;31m---------------------------------------------------------------------------\u001b[0m",
      "\u001b[1;31mAttributeError\u001b[0m                            Traceback (most recent call last)",
      "\u001b[1;32m~\\AppData\\Local\\Temp/ipykernel_1892/1850234365.py\u001b[0m in \u001b[0;36m<module>\u001b[1;34m\u001b[0m\n\u001b[1;32m----> 1\u001b[1;33m \u001b[0mpower_rangers\u001b[0m\u001b[1;33m.\u001b[0m\u001b[0mclear\u001b[0m\u001b[1;33m(\u001b[0m\u001b[1;33m)\u001b[0m\u001b[1;33m\u001b[0m\u001b[1;33m\u001b[0m\u001b[0m\n\u001b[0m",
      "\u001b[1;31mAttributeError\u001b[0m: 'tuple' object has no attribute 'clear'"
     ]
    }
   ],
   "source": [
    "power_rangers.clear()"
   ]
  },
  {
   "cell_type": "code",
   "execution_count": null,
   "id": "0e859d54",
   "metadata": {},
   "outputs": [],
   "source": [
    "# Python says this as only key difference between Python List and Python Tuple\n",
    "# For practical use cases developers use tuple for data which does not change or should not be changed"
   ]
  },
  {
   "cell_type": "code",
   "execution_count": null,
   "id": "f2c09e32",
   "metadata": {},
   "outputs": [],
   "source": [
    "# Example: coordinates should not be changed so it is used in a tuple but a list can be used to store tuples"
   ]
  },
  {
   "cell_type": "code",
   "execution_count": 37,
   "id": "2c7cb11c",
   "metadata": {},
   "outputs": [
    {
     "name": "stdout",
     "output_type": "stream",
     "text": [
      "[(4, 5), (7, 7), (5, 6), (5, 5), (7, 4), (7, 6)]\n",
      "<class 'list'>\n",
      "(5, 5)\n",
      "<class 'tuple'>\n"
     ]
    }
   ],
   "source": [
    "coordinates = [(4,5),(7,7),(5,6),(5,5),(7,4),(7,6)]\n",
    "print(coordinates)\n",
    "print(type(coordinates))\n",
    "print(coordinates[3])\n",
    "print(type(coordinates[3]))"
   ]
  },
  {
   "cell_type": "markdown",
   "id": "927523bd",
   "metadata": {},
   "source": [
    "##### Working with functions in Python"
   ]
  },
  {
   "cell_type": "code",
   "execution_count": 1,
   "id": "d9e720aa",
   "metadata": {},
   "outputs": [],
   "source": [
    "# What are functions in Python ? \n",
    "# A function is a collection of code which performs a specific task."
   ]
  },
  {
   "cell_type": "code",
   "execution_count": 5,
   "id": "a31b2004",
   "metadata": {},
   "outputs": [],
   "source": [
    "# Create a function to greet the user\n",
    "# To create a function we use a def keyword\n",
    "# def function_name(inputs)\n",
    "def greet_user(user_name):\n",
    "    # Indentation makes sure that the code you write below belongs to the function\n",
    "    # user_name in the parenthesis is known as a parameter\n",
    "    # if you mention a parameter then it should be given when calling a function\n",
    "    print(\"Welcome \" + user_name)"
   ]
  },
  {
   "cell_type": "code",
   "execution_count": 6,
   "id": "af4a8f8b",
   "metadata": {},
   "outputs": [
    {
     "name": "stdout",
     "output_type": "stream",
     "text": [
      "Enter your name: Arshid Sriraam\n"
     ]
    }
   ],
   "source": [
    "user_name = input(\"Enter your name: \")"
   ]
  },
  {
   "cell_type": "code",
   "execution_count": 7,
   "id": "8e76d746",
   "metadata": {},
   "outputs": [
    {
     "name": "stdout",
     "output_type": "stream",
     "text": [
      "Welcome Arshid Sriraam\n"
     ]
    }
   ],
   "source": [
    "# call the function - In order to use the function\n",
    "greet_user(user_name)\n",
    "# flow of function is that when we are calling a function all the piece of code in that particular function will get executed....."
   ]
  },
  {
   "cell_type": "code",
   "execution_count": 10,
   "id": "5f351242",
   "metadata": {},
   "outputs": [],
   "source": [
    "# we can have multiple parameters for a function\n",
    "def greet_user(user_name,age):\n",
    "    print(\"Welcome \" + user_name + \" Your age is: \" + age)"
   ]
  },
  {
   "cell_type": "code",
   "execution_count": 8,
   "id": "b85ba75e",
   "metadata": {},
   "outputs": [
    {
     "name": "stdout",
     "output_type": "stream",
     "text": [
      "Enter your name: Arjun Sriraam\n",
      "Enter your age: 16\n"
     ]
    }
   ],
   "source": [
    "user_name = input(\"Enter your name: \")\n",
    "age = input(\"Enter your age: \")"
   ]
  },
  {
   "cell_type": "code",
   "execution_count": 11,
   "id": "c9dba3cc",
   "metadata": {},
   "outputs": [
    {
     "name": "stdout",
     "output_type": "stream",
     "text": [
      "Welcome Arjun Sriraam Your age is: 16\n"
     ]
    }
   ],
   "source": [
    "greet_user(user_name,age)"
   ]
  },
  {
   "cell_type": "code",
   "execution_count": 13,
   "id": "b50fa141",
   "metadata": {},
   "outputs": [
    {
     "name": "stdout",
     "output_type": "stream",
     "text": [
      "Welcome Narayana Your age is: 16\n"
     ]
    }
   ],
   "source": [
    "greet_user(\"Narayana\",\"16\")"
   ]
  },
  {
   "cell_type": "code",
   "execution_count": null,
   "id": "a34652e6",
   "metadata": {},
   "outputs": [],
   "source": [
    "# To have functions is a best practise in Python\n",
    "# If you have function for specific functions we can reuse them again and again with unique parameters."
   ]
  },
  {
   "cell_type": "markdown",
   "id": "3814a7db",
   "metadata": {},
   "source": [
    "##### Return statement in Python functions"
   ]
  },
  {
   "cell_type": "code",
   "execution_count": 14,
   "id": "5d1c8f08",
   "metadata": {},
   "outputs": [],
   "source": [
    "# Write a function to add two integers and return sum\n",
    "def add_numbers(number_1,number_2):\n",
    "    sum = number_1 + number_2\n",
    "    return sum"
   ]
  },
  {
   "cell_type": "code",
   "execution_count": 15,
   "id": "a87c2c02",
   "metadata": {},
   "outputs": [
    {
     "data": {
      "text/plain": [
       "15"
      ]
     },
     "execution_count": 15,
     "metadata": {},
     "output_type": "execute_result"
    }
   ],
   "source": [
    "add_numbers(6,9)"
   ]
  },
  {
   "cell_type": "code",
   "execution_count": 16,
   "id": "b5888ea6",
   "metadata": {},
   "outputs": [
    {
     "name": "stdout",
     "output_type": "stream",
     "text": [
      "15\n"
     ]
    }
   ],
   "source": [
    "# If the function returns something then we can store it in a variable.\n",
    "sum = add_numbers(6,9)\n",
    "print(sum)"
   ]
  },
  {
   "cell_type": "code",
   "execution_count": 17,
   "id": "ca18285e",
   "metadata": {},
   "outputs": [],
   "source": [
    "# Why we use return statement in Python?\n",
    "# Write a function to get the cube of a number\n",
    "def cube_number(num):\n",
    "    num*num*num"
   ]
  },
  {
   "cell_type": "code",
   "execution_count": 18,
   "id": "a07bdac7",
   "metadata": {},
   "outputs": [],
   "source": [
    "# call cube_number() function\n",
    "cube_number(5)\n",
    "# I get nothing as output"
   ]
  },
  {
   "cell_type": "code",
   "execution_count": 19,
   "id": "65cb2a44",
   "metadata": {},
   "outputs": [
    {
     "name": "stdout",
     "output_type": "stream",
     "text": [
      "None\n"
     ]
    }
   ],
   "source": [
    "# Let's print and see\n",
    "print(cube_number(5))"
   ]
  },
  {
   "cell_type": "code",
   "execution_count": 20,
   "id": "c35f51cf",
   "metadata": {},
   "outputs": [],
   "source": [
    "# but if we use return statement the Python knows that it should return this value when the function is called\n",
    "def cube_number(num):\n",
    "    return num*num*num"
   ]
  },
  {
   "cell_type": "code",
   "execution_count": 21,
   "id": "d4f87862",
   "metadata": {},
   "outputs": [
    {
     "name": "stdout",
     "output_type": "stream",
     "text": [
      "125\n"
     ]
    }
   ],
   "source": [
    "print(cube_number(5))"
   ]
  },
  {
   "cell_type": "code",
   "execution_count": 22,
   "id": "53f6a52d",
   "metadata": {},
   "outputs": [],
   "source": [
    "# we can store it as a variable - the value returned gets stored.\n",
    "cube_of_number = cube_number(6)"
   ]
  },
  {
   "cell_type": "code",
   "execution_count": 23,
   "id": "b62acc75",
   "metadata": {},
   "outputs": [
    {
     "name": "stdout",
     "output_type": "stream",
     "text": [
      "216\n"
     ]
    }
   ],
   "source": [
    "print(cube_of_number)"
   ]
  },
  {
   "cell_type": "code",
   "execution_count": 24,
   "id": "43fef341",
   "metadata": {},
   "outputs": [],
   "source": [
    "# return is the last statement in the function and after it Python does not read\n",
    "def cube_number(num):\n",
    "    return num*num*num\n",
    "    print(num) # this will not get executed because Python stops reading after the return statement"
   ]
  },
  {
   "cell_type": "code",
   "execution_count": 25,
   "id": "bc345ff1",
   "metadata": {},
   "outputs": [
    {
     "data": {
      "text/plain": [
       "729"
      ]
     },
     "execution_count": 25,
     "metadata": {},
     "output_type": "execute_result"
    }
   ],
   "source": [
    "cube_number(9)"
   ]
  },
  {
   "cell_type": "code",
   "execution_count": 26,
   "id": "f06ce9a1",
   "metadata": {},
   "outputs": [],
   "source": [
    "def cube_number(num):\n",
    "    print(num) # This gets executed because it is before the return statement.\n",
    "    return num*num*num"
   ]
  },
  {
   "cell_type": "code",
   "execution_count": 27,
   "id": "494f468f",
   "metadata": {},
   "outputs": [
    {
     "name": "stdout",
     "output_type": "stream",
     "text": [
      "9\n"
     ]
    },
    {
     "data": {
      "text/plain": [
       "729"
      ]
     },
     "execution_count": 27,
     "metadata": {},
     "output_type": "execute_result"
    }
   ],
   "source": [
    "cube_number(9)"
   ]
  },
  {
   "cell_type": "code",
   "execution_count": null,
   "id": "b999630c",
   "metadata": {},
   "outputs": [],
   "source": [
    "# We can return any data type we want it can be  a str, int, float, list, tuple, set, dictionary, etc."
   ]
  },
  {
   "cell_type": "markdown",
   "id": "12d03c35",
   "metadata": {},
   "source": [
    "##### If Statements in Python"
   ]
  },
  {
   "cell_type": "code",
   "execution_count": null,
   "id": "b8906e2c",
   "metadata": {},
   "outputs": [],
   "source": [
    "# Based on the data given as input our program will be able to respond for different conditions"
   ]
  },
  {
   "cell_type": "code",
   "execution_count": null,
   "id": "437462d1",
   "metadata": {},
   "outputs": [],
   "source": [
    "# Real world examples of if statements\n",
    "# Lets say you are cooking\n",
    "#if rice is there: (If this is true)\n",
    "        #let me cook fried rice (I perform this action)\n",
    "# otherwise: (The condition is also)\n",
    "        #lets order from swiggy (I perform this action)"
   ]
  },
  {
   "cell_type": "code",
   "execution_count": 33,
   "id": "bf32d155",
   "metadata": {},
   "outputs": [],
   "source": [
    "# Create a boolean variable to know whether there is rice\n",
    "rice_available = True\n",
    "#rice_available = False"
   ]
  },
  {
   "cell_type": "code",
   "execution_count": 34,
   "id": "5401125e",
   "metadata": {},
   "outputs": [
    {
     "name": "stdout",
     "output_type": "stream",
     "text": [
      "Rice is available, lets cook\n"
     ]
    }
   ],
   "source": [
    "if rice_available:\n",
    "    # use indentation\n",
    "    print(\"Rice is available, lets cook\")\n",
    "else: # otherwise\n",
    "    print(\"Rice is not available, lets order from Swiggy\")"
   ]
  },
  {
   "cell_type": "code",
   "execution_count": 35,
   "id": "8c028a23",
   "metadata": {},
   "outputs": [
    {
     "name": "stdout",
     "output_type": "stream",
     "text": [
      "You are either indian or tamilian\n"
     ]
    }
   ],
   "source": [
    "# or operator\n",
    "# to check two conditions together\n",
    "# True, True = True\n",
    "# False, True = True\n",
    "# True,False = True\n",
    "# False,False = False\n",
    "is_indian = True\n",
    "is_tamilian = True\n",
    "\n",
    "if is_indian or is_tamilian:\n",
    "    print(\"You are either indian or tamilian\")\n",
    "else:\n",
    "    print(\"You are neither indian nor tamilian\")"
   ]
  },
  {
   "cell_type": "code",
   "execution_count": 39,
   "id": "51c670f2",
   "metadata": {},
   "outputs": [
    {
     "name": "stdout",
     "output_type": "stream",
     "text": [
      "You are either indian or tamilian\n"
     ]
    }
   ],
   "source": [
    "# and operator\n",
    "# to check two conditions together\n",
    "# True, True = True\n",
    "# False, True = False\n",
    "# True,False = False\n",
    "# False,False = False\n",
    "is_indian = True\n",
    "is_tamilian = True\n",
    "\n",
    "if is_indian and is_tamilian:\n",
    "    print(\"You are either indian or tamilian\")\n",
    "else:\n",
    "    print(\"You are neither indian nor tamilian\")"
   ]
  },
  {
   "cell_type": "code",
   "execution_count": 40,
   "id": "82aac51b",
   "metadata": {},
   "outputs": [
    {
     "name": "stdout",
     "output_type": "stream",
     "text": [
      "You are indian but not tamilian\n"
     ]
    }
   ],
   "source": [
    "# elif keyword means else if\n",
    "is_indian = True\n",
    "is_tamilian = False\n",
    "\n",
    "if is_indian and is_tamilian:\n",
    "    print(\"You are either indian or tamilian\")\n",
    "    #we can have many elif but only one if and one else\n",
    "elif is_indian: \n",
    "    print(\"You are indian but not tamilian\")\n",
    "elif is_tamilian: \n",
    "    print(\"You are tamilian but you can be a malaysian,canadaian,srilankan,etc.\")\n",
    "else:\n",
    "    print(\"You are neither indian nor tamilian\")"
   ]
  },
  {
   "cell_type": "code",
   "execution_count": 41,
   "id": "fbab90df",
   "metadata": {},
   "outputs": [
    {
     "name": "stdout",
     "output_type": "stream",
     "text": [
      "You are either indian but not tamilian\n"
     ]
    }
   ],
   "source": [
    "# not function can be used to indicate if it is false then execute this.....\n",
    "is_indian = True\n",
    "is_tamilian = False\n",
    "\n",
    "if is_indian and not(is_tamilian):\n",
    "    print(\"You are indian but not tamilian\")\n",
    "else:\n",
    "    print(\"You are neither indian nor tamilian\")"
   ]
  },
  {
   "cell_type": "markdown",
   "id": "12c4dc5b",
   "metadata": {},
   "source": [
    "##### Comparison operators in If Statements in python"
   ]
  },
  {
   "cell_type": "code",
   "execution_count": 42,
   "id": "7a75a522",
   "metadata": {},
   "outputs": [],
   "source": [
    "# Write a function to find the biggest among three numbers\n",
    "def greatest_number(number_1,number_2,number_3):\n",
    "    if number_1 > number_2 and number_1 > number_3:\n",
    "        print(\"number_1 is the greater number\")\n",
    "    elif number_2 > number_1 and number_2 > number_3:\n",
    "        print(\"number_2 is the greater number\")\n",
    "    else:\n",
    "        print(\"number_3 is the greater number\")\n",
    "# this function works only for unique numbers"
   ]
  },
  {
   "cell_type": "code",
   "execution_count": 43,
   "id": "639574ba",
   "metadata": {},
   "outputs": [
    {
     "name": "stdout",
     "output_type": "stream",
     "text": [
      "number_3 is the greater number\n"
     ]
    }
   ],
   "source": [
    "greatest_number(5,6,8)"
   ]
  },
  {
   "cell_type": "code",
   "execution_count": null,
   "id": "ac38ffc5",
   "metadata": {},
   "outputs": [],
   "source": [
    "# Other operators\n",
    "# greater than: >\n",
    "# lesser than: <\n",
    "# greater than or equal to : >=\n",
    "# lesser than or equal to: <=\n",
    "# equal: ==\n",
    "# not equal: !="
   ]
  },
  {
   "cell_type": "code",
   "execution_count": null,
   "id": "a7103747",
   "metadata": {},
   "outputs": [],
   "source": [
    "# We can compare all different data types like string, integers, floats, lists, tuple, etc."
   ]
  },
  {
   "cell_type": "markdown",
   "id": "8f7213dc",
   "metadata": {},
   "source": [
    "##### Calculator in Python"
   ]
  },
  {
   "cell_type": "code",
   "execution_count": 44,
   "id": "1e78d3c2",
   "metadata": {},
   "outputs": [
    {
     "name": "stdout",
     "output_type": "stream",
     "text": [
      "Enter the first number: 5\n",
      "Enter the  operation: /\n",
      "Enter the second number: 5\n"
     ]
    }
   ],
   "source": [
    "first_number = float(input(\"Enter the first number: \"))\n",
    "op = input(\"Enter the  operation: \")\n",
    "second_number = float(input(\"Enter the second number: \"))"
   ]
  },
  {
   "cell_type": "code",
   "execution_count": 46,
   "id": "d5b22c22",
   "metadata": {},
   "outputs": [
    {
     "name": "stdout",
     "output_type": "stream",
     "text": [
      "1.0\n"
     ]
    }
   ],
   "source": [
    "if op == \"+\":\n",
    "    print(first_number + second_number)\n",
    "elif op == \"-\":\n",
    "    print(first_number - second_number)\n",
    "elif op == \"*\":\n",
    "    print(first_number * second_number)\n",
    "elif op == \"/\":\n",
    "    print(first_number / second_number)\n",
    "else:\n",
    "    print(\"Invalid operator\")"
   ]
  },
  {
   "cell_type": "markdown",
   "id": "de38d0ea",
   "metadata": {},
   "source": [
    "##### Working with Dictionaries in python"
   ]
  },
  {
   "cell_type": "code",
   "execution_count": null,
   "id": "7a6dbb6a",
   "metadata": {},
   "outputs": [],
   "source": [
    "# A dictionary is one among the collections in Python.\n",
    "# It stores data as a key value pairs.\n",
    "# Accessing any info in the dictionaries is done by using keys."
   ]
  },
  {
   "cell_type": "code",
   "execution_count": null,
   "id": "f65be49d",
   "metadata": {},
   "outputs": [],
   "source": [
    "# Let us compare to areal world dictionary where every word in a dictionary is unique and has a definition.\n",
    "# The words in the dictionary are keys and its definitions are values."
   ]
  },
  {
   "cell_type": "code",
   "execution_count": null,
   "id": "b2a2c2bb",
   "metadata": {},
   "outputs": [],
   "source": [
    "# Learn with a use case - I want to map 1,2,3,4,5,6,7 to Sunday, Monday, Tuesday, Wednesday, Thursday , Friday and Saturday."
   ]
  },
  {
   "cell_type": "code",
   "execution_count": 1,
   "id": "f9f7557d",
   "metadata": {},
   "outputs": [],
   "source": [
    "# Create a dictionary - method 1 - {}\n",
    "# dictionary_name = {} # curly brackets\n",
    "day_mapping = {\n",
    "    1:'Sunday',\n",
    "    2:'Monday',\n",
    "    3:'Tuesday',\n",
    "    4:'Wednesday',\n",
    "    5:'Thursday',\n",
    "    6:'Friday',\n",
    "    7:'Saturday'\n",
    "}"
   ]
  },
  {
   "cell_type": "code",
   "execution_count": 2,
   "id": "25965271",
   "metadata": {},
   "outputs": [
    {
     "data": {
      "text/plain": [
       "{1: 'Sunday',\n",
       " 2: 'Monday',\n",
       " 3: 'Tuesday',\n",
       " 4: 'Wednesday',\n",
       " 5: 'Thursday',\n",
       " 6: 'Friday',\n",
       " 7: 'Saturday'}"
      ]
     },
     "execution_count": 2,
     "metadata": {},
     "output_type": "execute_result"
    }
   ],
   "source": [
    "day_mapping"
   ]
  },
  {
   "cell_type": "code",
   "execution_count": 10,
   "id": "06e76652",
   "metadata": {},
   "outputs": [],
   "source": [
    "# Create a dictionary - method 2 - dict()\n",
    "# dictionary_name = dict()\n",
    "#day_mapping = dict(1 ='Sunday',2 ='Monday',3='Tuesday',4='Wednesday',5='Thursday',6='Friday',7='Saturday') # this will not work\n",
    "day_mapping = dict(one ='Sunday',two ='Monday',three='Tuesday',four='Wednesday',five='Thursday',six='Friday',seven='Saturday') "
   ]
  },
  {
   "cell_type": "code",
   "execution_count": 11,
   "id": "49784832",
   "metadata": {},
   "outputs": [
    {
     "data": {
      "text/plain": [
       "{'one': 'Sunday',\n",
       " 'two': 'Monday',\n",
       " 'three': 'Tuesday',\n",
       " 'four': 'Wednesday',\n",
       " 'five': 'Thursday',\n",
       " 'six': 'Friday',\n",
       " 'seven': 'Saturday'}"
      ]
     },
     "execution_count": 11,
     "metadata": {},
     "output_type": "execute_result"
    }
   ],
   "source": [
    "day_mapping"
   ]
  },
  {
   "cell_type": "code",
   "execution_count": 12,
   "id": "0dd0907d",
   "metadata": {},
   "outputs": [],
   "source": [
    "# Use method 1 to avoid these constraint and also avoid confusion\n",
    "# Create a dictionary - method 1 - {}\n",
    "# dictionary_name = {}\n",
    "day_mapping = {\n",
    "    1:'Sunday',\n",
    "    2:'Monday',\n",
    "    3:'Tuesday',\n",
    "    4:'Wednesday',\n",
    "    5:'Thursday',\n",
    "    6:'Friday',\n",
    "    7:'Saturday'\n",
    "}\n",
    "# keys are 1,2,3,4,5,6,7\n",
    "# values are 'Sunday','Monday','Tuesday','Wednesday','Thursday', 'Friday','Saturday'\n",
    "# all keys should be unique"
   ]
  },
  {
   "cell_type": "code",
   "execution_count": 13,
   "id": "421f507d",
   "metadata": {},
   "outputs": [
    {
     "data": {
      "text/plain": [
       "{1: 'Sunday',\n",
       " 2: 'Monday',\n",
       " 3: 'Tuesday',\n",
       " 4: 'Wednesday',\n",
       " 5: 'Thursday',\n",
       " 6: 'Friday',\n",
       " 7: 'Saturday'}"
      ]
     },
     "execution_count": 13,
     "metadata": {},
     "output_type": "execute_result"
    }
   ],
   "source": [
    "day_mapping"
   ]
  },
  {
   "cell_type": "code",
   "execution_count": 1,
   "id": "b0002fe6",
   "metadata": {},
   "outputs": [],
   "source": [
    "# all keys should be unique\n",
    "day_mapping = {\n",
    "    1:'Sunday',\n",
    "    1:'Monday',\n",
    "    3:'Tuesday',\n",
    "    4:'Wednesday',\n",
    "    5:'Thursday',\n",
    "    6:'Friday',\n",
    "    7:'Saturday'\n",
    "}"
   ]
  },
  {
   "cell_type": "code",
   "execution_count": 2,
   "id": "2462de8a",
   "metadata": {},
   "outputs": [
    {
     "data": {
      "text/plain": [
       "{1: 'Monday',\n",
       " 3: 'Tuesday',\n",
       " 4: 'Wednesday',\n",
       " 5: 'Thursday',\n",
       " 6: 'Friday',\n",
       " 7: 'Saturday'}"
      ]
     },
     "execution_count": 2,
     "metadata": {},
     "output_type": "execute_result"
    }
   ],
   "source": [
    "day_mapping\n",
    "# 'Sunday' is overwritten to 'Monday' as only one unique key should be present in a dictionary, Values can have duplicates."
   ]
  },
  {
   "cell_type": "code",
   "execution_count": 3,
   "id": "5ae0a19a",
   "metadata": {},
   "outputs": [],
   "source": [
    "# Values can have duplicates\n",
    "day_mapping = {\n",
    "    1:'Sunday',\n",
    "    2:'Sunday',\n",
    "    3:'Tuesday',\n",
    "    4:'Wednesday',\n",
    "    5:'Thursday',\n",
    "    6:'Friday',\n",
    "    7:'Saturday'\n",
    "}"
   ]
  },
  {
   "cell_type": "code",
   "execution_count": 4,
   "id": "a9f13837",
   "metadata": {},
   "outputs": [
    {
     "data": {
      "text/plain": [
       "{1: 'Sunday',\n",
       " 2: 'Sunday',\n",
       " 3: 'Tuesday',\n",
       " 4: 'Wednesday',\n",
       " 5: 'Thursday',\n",
       " 6: 'Friday',\n",
       " 7: 'Saturday'}"
      ]
     },
     "execution_count": 4,
     "metadata": {},
     "output_type": "execute_result"
    }
   ],
   "source": [
    "day_mapping"
   ]
  },
  {
   "cell_type": "code",
   "execution_count": 7,
   "id": "6e446113",
   "metadata": {},
   "outputs": [
    {
     "name": "stdout",
     "output_type": "stream",
     "text": [
      "Sunday\n",
      "Sunday\n",
      "Tuesday\n",
      "Wednesday\n",
      "Thursday\n",
      "Friday\n",
      "Saturday\n"
     ]
    }
   ],
   "source": [
    "# Acessing a list and tuple is by using their index.\n",
    "# The index in a dictionary are the keys and we can access anything using the keys() in dictionary.\n",
    "# Acessing - method 1\n",
    "print(day_mapping[1])\n",
    "print(day_mapping[2])\n",
    "print(day_mapping[3])\n",
    "print(day_mapping[4])\n",
    "print(day_mapping[5])\n",
    "print(day_mapping[6])\n",
    "print(day_mapping[7])\n",
    "# Refer a key to get the corresponding value in a dictionary."
   ]
  },
  {
   "cell_type": "code",
   "execution_count": 8,
   "id": "c1ae5b1d",
   "metadata": {},
   "outputs": [
    {
     "name": "stdout",
     "output_type": "stream",
     "text": [
      "Sunday\n",
      "Sunday\n",
      "Tuesday\n",
      "Wednesday\n",
      "Thursday\n",
      "Friday\n",
      "Saturday\n"
     ]
    }
   ],
   "source": [
    "# Acessing - method 2\n",
    "print(day_mapping.get(1))\n",
    "print(day_mapping.get(2))\n",
    "print(day_mapping.get(3))\n",
    "print(day_mapping.get(4))\n",
    "print(day_mapping.get(5))\n",
    "print(day_mapping.get(6))\n",
    "print(day_mapping.get(7))\n",
    "# Same output as method 1."
   ]
  },
  {
   "cell_type": "code",
   "execution_count": 9,
   "id": "40ec8d64",
   "metadata": {},
   "outputs": [
    {
     "name": "stdout",
     "output_type": "stream",
     "text": [
      "None\n"
     ]
    }
   ],
   "source": [
    "# if you use invalid key\n",
    "print(day_mapping.get(\"love\"))"
   ]
  },
  {
   "cell_type": "code",
   "execution_count": 10,
   "id": "37798ee3",
   "metadata": {},
   "outputs": [
    {
     "name": "stdout",
     "output_type": "stream",
     "text": [
      "Not a key in the dictionary\n"
     ]
    }
   ],
   "source": [
    "# We can specify the deafult value\n",
    "print(day_mapping.get(\"love\",\"Not a key in the dictionary\"))"
   ]
  },
  {
   "cell_type": "code",
   "execution_count": 11,
   "id": "86877b38",
   "metadata": {},
   "outputs": [
    {
     "name": "stdout",
     "output_type": "stream",
     "text": [
      "<class 'NoneType'>\n"
     ]
    }
   ],
   "source": [
    "print(type(day_mapping.get(\"love\")))"
   ]
  },
  {
   "cell_type": "code",
   "execution_count": 12,
   "id": "51f4a8e2",
   "metadata": {},
   "outputs": [
    {
     "name": "stdout",
     "output_type": "stream",
     "text": [
      "<class 'str'>\n"
     ]
    }
   ],
   "source": [
    "print(type(day_mapping.get(\"love\",\"Not a key in the dictionary\")))"
   ]
  },
  {
   "cell_type": "code",
   "execution_count": 14,
   "id": "3d06e89b",
   "metadata": {},
   "outputs": [
    {
     "ename": "KeyError",
     "evalue": "'Love'",
     "output_type": "error",
     "traceback": [
      "\u001b[1;31m---------------------------------------------------------------------------\u001b[0m",
      "\u001b[1;31mKeyError\u001b[0m                                  Traceback (most recent call last)",
      "\u001b[1;32m~\\AppData\\Local\\Temp/ipykernel_22956/3039903926.py\u001b[0m in \u001b[0;36m<module>\u001b[1;34m\u001b[0m\n\u001b[0;32m      1\u001b[0m \u001b[1;31m# so we can handle none data type by using the method\u001b[0m\u001b[1;33m\u001b[0m\u001b[1;33m\u001b[0m\u001b[0m\n\u001b[1;32m----> 2\u001b[1;33m \u001b[0mprint\u001b[0m\u001b[1;33m(\u001b[0m\u001b[0mday_mapping\u001b[0m\u001b[1;33m[\u001b[0m\u001b[1;34m\"Love\"\u001b[0m\u001b[1;33m]\u001b[0m\u001b[1;33m)\u001b[0m\u001b[1;33m\u001b[0m\u001b[1;33m\u001b[0m\u001b[0m\n\u001b[0m\u001b[0;32m      3\u001b[0m \u001b[1;31m# it will raise a key error for invalid key if you use method 1.\u001b[0m\u001b[1;33m\u001b[0m\u001b[1;33m\u001b[0m\u001b[0m\n",
      "\u001b[1;31mKeyError\u001b[0m: 'Love'"
     ]
    }
   ],
   "source": [
    "# so we can handle none data type by using the method\n",
    "print(day_mapping[\"Love\"])\n",
    "# it will raise a key error for invalid key if you use method 1."
   ]
  },
  {
   "cell_type": "code",
   "execution_count": null,
   "id": "44674494",
   "metadata": {},
   "outputs": [],
   "source": [
    "# keys can be strings, integers, float , boolean but not a collection"
   ]
  },
  {
   "cell_type": "code",
   "execution_count": 15,
   "id": "ec104d0b",
   "metadata": {},
   "outputs": [
    {
     "name": "stdout",
     "output_type": "stream",
     "text": [
      "{'one': 'Sunday', 'two': 'Sunday'}\n"
     ]
    }
   ],
   "source": [
    "# string - works fine\n",
    "day_mapping = {\n",
    "    'one':'Sunday',\n",
    "    'two':'Sunday',\n",
    "}\n",
    "print(day_mapping)"
   ]
  },
  {
   "cell_type": "code",
   "execution_count": 16,
   "id": "0794e928",
   "metadata": {},
   "outputs": [
    {
     "name": "stdout",
     "output_type": "stream",
     "text": [
      "{1: 'Sunday', 2: 'Sunday'}\n"
     ]
    }
   ],
   "source": [
    "# integer - works fine\n",
    "day_mapping = {\n",
    "    1:'Sunday',\n",
    "    2:'Sunday',\n",
    "}\n",
    "print(day_mapping)"
   ]
  },
  {
   "cell_type": "code",
   "execution_count": 17,
   "id": "b7f005e0",
   "metadata": {},
   "outputs": [
    {
     "name": "stdout",
     "output_type": "stream",
     "text": [
      "{1.0: 'Sunday', 2.0: 'Sunday'}\n"
     ]
    }
   ],
   "source": [
    "# float - works fine\n",
    "day_mapping = {\n",
    "    1.0:'Sunday',\n",
    "    2.0:'Sunday',\n",
    "}\n",
    "print(day_mapping)"
   ]
  },
  {
   "cell_type": "code",
   "execution_count": 18,
   "id": "04edc214",
   "metadata": {},
   "outputs": [
    {
     "name": "stdout",
     "output_type": "stream",
     "text": [
      "{True: 'Friday', False: 'Sunday'}\n"
     ]
    }
   ],
   "source": [
    "# bool - cannot be used, but can be used if only True or False Use case.\n",
    "day_mapping = {\n",
    "    True:'Sunday',\n",
    "    False:'Sunday',\n",
    "    True:'Friday'\n",
    "}\n",
    "print(day_mapping)"
   ]
  },
  {
   "cell_type": "code",
   "execution_count": 19,
   "id": "68e0a362",
   "metadata": {},
   "outputs": [
    {
     "ename": "TypeError",
     "evalue": "unhashable type: 'list'",
     "output_type": "error",
     "traceback": [
      "\u001b[1;31m---------------------------------------------------------------------------\u001b[0m",
      "\u001b[1;31mTypeError\u001b[0m                                 Traceback (most recent call last)",
      "\u001b[1;32m~\\AppData\\Local\\Temp/ipykernel_22956/614203095.py\u001b[0m in \u001b[0;36m<module>\u001b[1;34m\u001b[0m\n\u001b[0;32m      1\u001b[0m \u001b[1;31m# collections - cannot be used, as the mapping is not possible.\u001b[0m\u001b[1;33m\u001b[0m\u001b[1;33m\u001b[0m\u001b[0m\n\u001b[1;32m----> 2\u001b[1;33m day_mapping = {\n\u001b[0m\u001b[0;32m      3\u001b[0m     \u001b[1;33m[\u001b[0m\u001b[1;36m1\u001b[0m\u001b[1;33m,\u001b[0m\u001b[1;36m2\u001b[0m\u001b[1;33m]\u001b[0m\u001b[1;33m:\u001b[0m\u001b[1;34m'Sunday'\u001b[0m\u001b[1;33m,\u001b[0m\u001b[1;33m\u001b[0m\u001b[1;33m\u001b[0m\u001b[0m\n\u001b[0;32m      4\u001b[0m     \u001b[1;33m[\u001b[0m\u001b[1;36m12\u001b[0m\u001b[1;33m,\u001b[0m\u001b[1;36m5\u001b[0m\u001b[1;33m]\u001b[0m\u001b[1;33m:\u001b[0m\u001b[1;34m'Sunday'\u001b[0m\u001b[1;33m,\u001b[0m\u001b[1;33m\u001b[0m\u001b[1;33m\u001b[0m\u001b[0m\n\u001b[0;32m      5\u001b[0m     \u001b[1;33m[\u001b[0m\u001b[1;36m9\u001b[0m\u001b[1;33m,\u001b[0m\u001b[1;36m6\u001b[0m\u001b[1;33m]\u001b[0m\u001b[1;33m:\u001b[0m\u001b[1;34m'Friday'\u001b[0m\u001b[1;33m\u001b[0m\u001b[1;33m\u001b[0m\u001b[0m\n",
      "\u001b[1;31mTypeError\u001b[0m: unhashable type: 'list'"
     ]
    }
   ],
   "source": [
    "# collections - cannot be used, as the mapping is not possible.\n",
    "day_mapping = {\n",
    "    [1,2]:'Sunday',\n",
    "    [12,5]:'Sunday',\n",
    "    [9,6]:'Friday'\n",
    "}\n",
    "print(day_mapping)\n",
    "# error - nhashable type: 'list'"
   ]
  },
  {
   "cell_type": "code",
   "execution_count": 20,
   "id": "d201b355",
   "metadata": {},
   "outputs": [
    {
     "name": "stdout",
     "output_type": "stream",
     "text": [
      "{1: 'Sunday', 2: 'Sunday'}\n",
      "{1: 'Sunday', 2: 'Friday'}\n"
     ]
    }
   ],
   "source": [
    "# Update values in a dictionary\n",
    "#syntax: dictionary_name[index] = new_value\n",
    "day_mapping = {\n",
    "    1:'Sunday',\n",
    "    2:'Sunday',\n",
    "}\n",
    "print(day_mapping)\n",
    "day_mapping[2] = 'Friday'\n",
    "print(day_mapping)"
   ]
  },
  {
   "cell_type": "code",
   "execution_count": 21,
   "id": "db484249",
   "metadata": {},
   "outputs": [
    {
     "name": "stdout",
     "output_type": "stream",
     "text": [
      "{1: 'Sunday', 2: 'Friday'}\n",
      "{2: 'Friday'}\n"
     ]
    }
   ],
   "source": [
    "# del keyword - removes the key, value for specified key.\n",
    "print(day_mapping)\n",
    "del day_mapping[1]\n",
    "print(day_mapping)"
   ]
  },
  {
   "cell_type": "code",
   "execution_count": 45,
   "id": "fe7e176e",
   "metadata": {},
   "outputs": [
    {
     "name": "stdout",
     "output_type": "stream",
     "text": [
      "dict_keys([1, 2, 3, 4, 5, 6, 7])\n"
     ]
    }
   ],
   "source": [
    "#.keys()\n",
    "print(day_mapping.keys())"
   ]
  },
  {
   "cell_type": "code",
   "execution_count": 47,
   "id": "91c297d4",
   "metadata": {},
   "outputs": [
    {
     "name": "stdout",
     "output_type": "stream",
     "text": [
      "dict_values(['Sunday', 'Sunday', 'Tuesday', 'Wednesday', 'Thursday', 'Friday', 'Saturday'])\n"
     ]
    }
   ],
   "source": [
    "#.valuse()\n",
    "print(day_mapping.values())"
   ]
  },
  {
   "cell_type": "code",
   "execution_count": 48,
   "id": "b429c733",
   "metadata": {},
   "outputs": [
    {
     "name": "stdout",
     "output_type": "stream",
     "text": [
      "dict_items([(1, 'Sunday'), (2, 'Sunday'), (3, 'Tuesday'), (4, 'Wednesday'), (5, 'Thursday'), (6, 'Friday'), (7, 'Saturday')])\n"
     ]
    }
   ],
   "source": [
    "#.items()\n",
    "print(day_mapping.items())"
   ]
  },
  {
   "cell_type": "markdown",
   "id": "ec36edfb",
   "metadata": {},
   "source": [
    "##### While loops in Python"
   ]
  },
  {
   "cell_type": "code",
   "execution_count": null,
   "id": "0483e6e4",
   "metadata": {},
   "outputs": [],
   "source": [
    "# Executes a block of code repeatedly till the condition is false."
   ]
  },
  {
   "cell_type": "code",
   "execution_count": 22,
   "id": "da4dea8e",
   "metadata": {},
   "outputs": [
    {
     "name": "stdout",
     "output_type": "stream",
     "text": [
      "1\n",
      "2\n",
      "3\n",
      "4\n",
      "5\n",
      "6\n",
      "7\n",
      "8\n",
      "9\n",
      "Loop finished 10\n"
     ]
    }
   ],
   "source": [
    "# while condition:\n",
    "i = 1\n",
    "while i < 10 :\n",
    "    print(i)\n",
    "    i += 1 # same as i = i + 1, increment it to avoid infinite loop\n",
    "print(\"Loop finished\",i)"
   ]
  },
  {
   "cell_type": "markdown",
   "id": "7e70a39c",
   "metadata": {},
   "source": [
    "##### Guessing game"
   ]
  },
  {
   "cell_type": "code",
   "execution_count": null,
   "id": "3638c1b0",
   "metadata": {},
   "outputs": [],
   "source": [
    "# We will be using if statements, while loops, variables i.e all the topics we have seen previously...."
   ]
  },
  {
   "cell_type": "code",
   "execution_count": 27,
   "id": "453ea4ad",
   "metadata": {},
   "outputs": [
    {
     "name": "stdout",
     "output_type": "stream",
     "text": [
      "Enter your guess (hint it is a animal):cow\n",
      "Enter your guess (hint it is a animal):bull\n",
      "Enter your guess (hint it is a animal):horse\n",
      "Enter your guess (hint it is a animal):zebra\n",
      "You guessed it right, it is  zebra\n"
     ]
    }
   ],
   "source": [
    "secret_word = \"zebra\"\n",
    "guess = ''\n",
    "while guess != secret_word:\n",
    "    guess = input(\"Enter your guess (hint it is a animal):\")\n",
    "print(\"You guessed it right, it is \",secret_word)"
   ]
  },
  {
   "cell_type": "code",
   "execution_count": 30,
   "id": "20d814ef",
   "metadata": {},
   "outputs": [],
   "source": [
    "# set a limit for guess , guess_limit is 2 times only."
   ]
  },
  {
   "cell_type": "code",
   "execution_count": null,
   "id": "8d482dd8",
   "metadata": {},
   "outputs": [],
   "source": [
    "# answer 1\n",
    "secret_word = \"zebra\"\n",
    "guess = ''\n",
    "guess_count = 0\n",
    "guess_limit = 2\n",
    "while guess != secret_word and guess_count < guess_limit :\n",
    "    guess = input(\"Enter your guess (hint it is a animal):\")\n",
    "    guess_count += 1\n",
    "if guess == secret_word:\n",
    "    print(\"You guessed it right, it is \",secret_word)\n",
    "else:\n",
    "    print(\"Sorry you have not guessed it right, better luck next time!\")"
   ]
  },
  {
   "cell_type": "code",
   "execution_count": 35,
   "id": "d3dc25fb",
   "metadata": {},
   "outputs": [
    {
     "name": "stdout",
     "output_type": "stream",
     "text": [
      "Enter your guess (hint it is a animal):zebra\n",
      "You guessed it right, it is  zebra\n"
     ]
    }
   ],
   "source": [
    "# answer 2\n",
    "secret_word = \"zebra\"\n",
    "guess = ''\n",
    "guess_count = 0\n",
    "guess_limit = 2\n",
    "out_of_guesses = False\n",
    "while guess != secret_word and not(out_of_guesses):\n",
    "    if guess_count < guess_limit:\n",
    "        guess = input(\"Enter your guess (hint it is a animal):\")\n",
    "        guess_count += 1\n",
    "    else:\n",
    "        out_of_guesses = True\n",
    "if out_of_guesses:\n",
    "    print(\"Sorry you have not guessed it right in 2 chances, better luck next time!\")\n",
    "else:\n",
    "    print(\"You guessed it right, it is \",secret_word)"
   ]
  },
  {
   "cell_type": "code",
   "execution_count": 31,
   "id": "c385252c",
   "metadata": {},
   "outputs": [
    {
     "data": {
      "text/plain": [
       "True"
      ]
     },
     "execution_count": 31,
     "metadata": {},
     "output_type": "execute_result"
    }
   ],
   "source": [
    "out_of_guesses = False\n",
    "not(out_of_guesses)"
   ]
  },
  {
   "cell_type": "markdown",
   "id": "dd28a4b7",
   "metadata": {},
   "source": [
    "##### For loops in Python"
   ]
  },
  {
   "cell_type": "code",
   "execution_count": 42,
   "id": "2c1cea7c",
   "metadata": {},
   "outputs": [
    {
     "name": "stdout",
     "output_type": "stream",
     "text": [
      "1\n",
      "2\n",
      "3\n",
      "4\n",
      "5\n"
     ]
    }
   ],
   "source": [
    "# list \n",
    "list_1 = [1,2,3,4,5]\n",
    "for x in list_1:\n",
    "    print(x)# print out value"
   ]
  },
  {
   "cell_type": "code",
   "execution_count": 44,
   "id": "1aee2183",
   "metadata": {},
   "outputs": [
    {
     "name": "stdout",
     "output_type": "stream",
     "text": [
      "0\n",
      "1\n",
      "2\n",
      "3\n",
      "4\n"
     ]
    }
   ],
   "source": [
    "#if you want the index - list\n",
    "# list \n",
    "list_1 = [1,2,3,4,5]\n",
    "for x in range(len(list_1)):\n",
    "    print(x)# print out index"
   ]
  },
  {
   "cell_type": "code",
   "execution_count": 43,
   "id": "017e3353",
   "metadata": {},
   "outputs": [
    {
     "name": "stdout",
     "output_type": "stream",
     "text": [
      "2\n",
      "3\n",
      "4\n",
      "5\n",
      "6\n"
     ]
    }
   ],
   "source": [
    "# tuple\n",
    "tuple_1 = (2,3,4,5,6)\n",
    "for x in tuple_1:\n",
    "    print(x)"
   ]
  },
  {
   "cell_type": "code",
   "execution_count": null,
   "id": "b7ee80dc",
   "metadata": {},
   "outputs": [],
   "source": [
    "# set\n",
    "set_1 = {2,3,4,5,6}\n",
    "for x in set_1:\n",
    "    print(x)"
   ]
  },
  {
   "cell_type": "code",
   "execution_count": 36,
   "id": "39c70c80",
   "metadata": {},
   "outputs": [
    {
     "name": "stdout",
     "output_type": "stream",
     "text": [
      "1\n",
      "2\n",
      "3\n",
      "4\n",
      "5\n",
      "6\n",
      "7\n"
     ]
    }
   ],
   "source": [
    "# dictionary - for looping over dictionary keys.\n",
    "day_mapping = {\n",
    "    1:'Sunday',\n",
    "    2:'Sunday',\n",
    "    3:'Tuesday',\n",
    "    4:'Wednesday',\n",
    "    5:'Thursday',\n",
    "    6:'Friday',\n",
    "    7:'Saturday'\n",
    "}\n",
    "for x in day_mapping:\n",
    "    print(x)"
   ]
  },
  {
   "cell_type": "code",
   "execution_count": 37,
   "id": "c0e5828f",
   "metadata": {},
   "outputs": [
    {
     "name": "stdout",
     "output_type": "stream",
     "text": [
      "Sunday\n",
      "Sunday\n",
      "Tuesday\n",
      "Wednesday\n",
      "Thursday\n",
      "Friday\n",
      "Saturday\n"
     ]
    }
   ],
   "source": [
    "# dictionary - for looping over dictionary values.\n",
    "day_mapping = {\n",
    "    1:'Sunday',\n",
    "    2:'Sunday',\n",
    "    3:'Tuesday',\n",
    "    4:'Wednesday',\n",
    "    5:'Thursday',\n",
    "    6:'Friday',\n",
    "    7:'Saturday'\n",
    "}\n",
    "for x in day_mapping:\n",
    "    print(day_mapping[x])"
   ]
  },
  {
   "cell_type": "code",
   "execution_count": 38,
   "id": "347707ff",
   "metadata": {},
   "outputs": [
    {
     "name": "stdout",
     "output_type": "stream",
     "text": [
      "e\n",
      "l\n",
      "e\n",
      "p\n",
      "h\n",
      "a\n",
      "n\n",
      "t\n",
      " \n",
      "g\n",
      "a\n",
      "t\n",
      "e\n",
      " \n",
      "t\n",
      "o\n",
      "l\n",
      "l\n"
     ]
    }
   ],
   "source": [
    "# loop over a string\n",
    "string_1 = \"elephant gate toll\"\n",
    "for x in string_1:\n",
    "    print(x)"
   ]
  },
  {
   "cell_type": "code",
   "execution_count": 39,
   "id": "0aa72e57",
   "metadata": {},
   "outputs": [
    {
     "ename": "TypeError",
     "evalue": "'int' object is not iterable",
     "output_type": "error",
     "traceback": [
      "\u001b[1;31m---------------------------------------------------------------------------\u001b[0m",
      "\u001b[1;31mTypeError\u001b[0m                                 Traceback (most recent call last)",
      "\u001b[1;32m~\\AppData\\Local\\Temp/ipykernel_22956/3012972187.py\u001b[0m in \u001b[0;36m<module>\u001b[1;34m\u001b[0m\n\u001b[0;32m      2\u001b[0m \u001b[1;31m# loop over a string\u001b[0m\u001b[1;33m\u001b[0m\u001b[1;33m\u001b[0m\u001b[0m\n\u001b[0;32m      3\u001b[0m \u001b[0mnumber_1\u001b[0m \u001b[1;33m=\u001b[0m \u001b[1;36m1234567\u001b[0m\u001b[1;33m\u001b[0m\u001b[1;33m\u001b[0m\u001b[0m\n\u001b[1;32m----> 4\u001b[1;33m \u001b[1;32mfor\u001b[0m \u001b[0mx\u001b[0m \u001b[1;32min\u001b[0m \u001b[0mnumber_1\u001b[0m\u001b[1;33m:\u001b[0m\u001b[1;33m\u001b[0m\u001b[1;33m\u001b[0m\u001b[0m\n\u001b[0m\u001b[0;32m      5\u001b[0m     \u001b[0mprint\u001b[0m\u001b[1;33m(\u001b[0m\u001b[0mx\u001b[0m\u001b[1;33m)\u001b[0m\u001b[1;33m\u001b[0m\u001b[1;33m\u001b[0m\u001b[0m\n",
      "\u001b[1;31mTypeError\u001b[0m: 'int' object is not iterable"
     ]
    }
   ],
   "source": [
    "# cant loop over a number - 'int' object is not iterable\n",
    "# loop over a string\n",
    "number_1 = 1234567\n",
    "for x in number_1:\n",
    "    print(x)"
   ]
  },
  {
   "cell_type": "code",
   "execution_count": 40,
   "id": "d7b305de",
   "metadata": {},
   "outputs": [
    {
     "name": "stdout",
     "output_type": "stream",
     "text": [
      "0\n",
      "1\n",
      "2\n",
      "3\n",
      "4\n"
     ]
    }
   ],
   "source": [
    "# range\n",
    "for x in range(5):\n",
    "    print(x)"
   ]
  },
  {
   "cell_type": "code",
   "execution_count": 41,
   "id": "0304b84b",
   "metadata": {},
   "outputs": [
    {
     "name": "stdout",
     "output_type": "stream",
     "text": [
      "5\n",
      "6\n",
      "7\n",
      "8\n",
      "9\n",
      "10\n"
     ]
    }
   ],
   "source": [
    "# range of indice, start index is included, end index is not included.\n",
    "for x in range(5,11):\n",
    "    print(x)"
   ]
  },
  {
   "cell_type": "code",
   "execution_count": null,
   "id": "c3389cab",
   "metadata": {},
   "outputs": [],
   "source": [
    "# Syntax: \n",
    "#for itteration_variable in itterable_data_type:\n",
    "    #print(itteration_variable)\n",
    "# itteration_variable can be any name but you should access  it with same name."
   ]
  },
  {
   "cell_type": "code",
   "execution_count": 50,
   "id": "562d128e",
   "metadata": {},
   "outputs": [
    {
     "name": "stdout",
     "output_type": "stream",
     "text": [
      "0\n",
      "The index is a positive number..\n",
      "The index is a positive number..\n",
      "The index is a positive number..\n",
      "The index is a positive number..\n",
      "The index is a positive number..\n"
     ]
    }
   ],
   "source": [
    "# You can perform any logic under for loops\n",
    "for index in range(6):\n",
    "    if index == 0:\n",
    "        print(index)\n",
    "    else:\n",
    "        print(\"The index is a positive number..\")\n",
    "# We can make complex programs using for loops."
   ]
  },
  {
   "cell_type": "code",
   "execution_count": 56,
   "id": "7011e13c",
   "metadata": {},
   "outputs": [],
   "source": [
    "# Infinity loop in Python source: youtube @Creativewizcoding\n",
    "from turtle import *\n",
    "color('cyan')\n",
    "bgcolor('black')\n",
    "speed(11)\n",
    "right(45)\n",
    "for n in range(150):\n",
    "    if 7 < n < 62:\n",
    "        left(5)\n",
    "    if 80 < n < 133:\n",
    "        right(5)\n",
    "    circle(30)\n",
    "    if n < 80:\n",
    "        forward(10)\n",
    "    else:\n",
    "        forward(5)"
   ]
  },
  {
   "cell_type": "markdown",
   "id": "4cf0bf74",
   "metadata": {},
   "source": [
    "##### Exponent function in Python"
   ]
  },
  {
   "cell_type": "code",
   "execution_count": 1,
   "id": "ba12ec38",
   "metadata": {},
   "outputs": [
    {
     "name": "stdout",
     "output_type": "stream",
     "text": [
      "3125\n"
     ]
    }
   ],
   "source": [
    "print(5**5)"
   ]
  },
  {
   "cell_type": "code",
   "execution_count": 8,
   "id": "6e62ff8e",
   "metadata": {},
   "outputs": [],
   "source": [
    "# Create a function for calculating exponentiation\n",
    "def raise_power(a,b):\n",
    "    result = 1\n",
    "    for x in range(b):\n",
    "        result = result * a\n",
    "    return result"
   ]
  },
  {
   "cell_type": "code",
   "execution_count": 9,
   "id": "63da7b3e",
   "metadata": {},
   "outputs": [
    {
     "name": "stdout",
     "output_type": "stream",
     "text": [
      "3125\n"
     ]
    }
   ],
   "source": [
    "exponent_5 = raise_power(5,5)\n",
    "print(exponent_5)"
   ]
  },
  {
   "cell_type": "code",
   "execution_count": 14,
   "id": "c0969402",
   "metadata": {},
   "outputs": [
    {
     "name": "stdout",
     "output_type": "stream",
     "text": [
      "0\n",
      "5\n",
      "1\n",
      "25\n",
      "2\n",
      "125\n",
      "3\n",
      "625\n",
      "4\n",
      "3125\n"
     ]
    }
   ],
   "source": [
    "# heart of the raise_power function\n",
    "a = 5\n",
    "result = 1\n",
    "for x in range(5):\n",
    "    result = result * a\n",
    "    print(x)\n",
    "    print(result)"
   ]
  },
  {
   "cell_type": "code",
   "execution_count": 11,
   "id": "5d5bf179",
   "metadata": {},
   "outputs": [
    {
     "name": "stdout",
     "output_type": "stream",
     "text": [
      "0\n",
      "25\n",
      "1\n",
      "625\n",
      "2\n",
      "390625\n",
      "3\n",
      "152587890625\n",
      "4\n",
      "23283064365386962890625\n"
     ]
    }
   ],
   "source": [
    "# Program to multiply to its value again and again\n",
    "a = 5\n",
    "for x in range(5):\n",
    "        a = a * a\n",
    "        print(x)\n",
    "        print(a)"
   ]
  },
  {
   "cell_type": "code",
   "execution_count": 13,
   "id": "b53da5f3",
   "metadata": {},
   "outputs": [
    {
     "name": "stdout",
     "output_type": "stream",
     "text": [
      "0\n",
      "36\n",
      "1\n",
      "1296\n",
      "2\n",
      "1679616\n",
      "3\n",
      "2821109907456\n",
      "4\n",
      "7958661109946400884391936\n"
     ]
    }
   ],
   "source": [
    "a = 6\n",
    "for x in range(5):\n",
    "        a = a * a\n",
    "        print(x)\n",
    "        print(a)"
   ]
  },
  {
   "cell_type": "markdown",
   "id": "27ddd945",
   "metadata": {},
   "source": [
    "##### 2D Lists and nested loops in Python"
   ]
  },
  {
   "cell_type": "code",
   "execution_count": null,
   "id": "85f3c080",
   "metadata": {},
   "outputs": [],
   "source": [
    "# 2D Lists"
   ]
  },
  {
   "cell_type": "code",
   "execution_count": 15,
   "id": "e55880fd",
   "metadata": {},
   "outputs": [
    {
     "name": "stdout",
     "output_type": "stream",
     "text": [
      "[1, 2, 3]\n",
      "1\n",
      "2\n",
      "3\n",
      "[7, 8, 9]\n",
      "7\n",
      "8\n",
      "9\n",
      "[4, 5, 6]\n",
      "4\n",
      "5\n",
      "6\n",
      "[0]\n",
      "0\n"
     ]
    }
   ],
   "source": [
    "list_matrix = [\n",
    "    [1,2,3],\n",
    "    [7,8,9],\n",
    "    [4,5,6],\n",
    "    [0]\n",
    "]\n",
    "print(list_matrix[0])\n",
    "print(list_matrix[0][0])\n",
    "print(list_matrix[0][1])\n",
    "print(list_matrix[0][2])\n",
    "print(list_matrix[1])\n",
    "print(list_matrix[1][0])\n",
    "print(list_matrix[1][1])\n",
    "print(list_matrix[1][2])\n",
    "print(list_matrix[2])\n",
    "print(list_matrix[2][0])\n",
    "print(list_matrix[2][1])\n",
    "print(list_matrix[2][2])\n",
    "print(list_matrix[3])\n",
    "print(list_matrix[3][0])"
   ]
  },
  {
   "cell_type": "code",
   "execution_count": 20,
   "id": "00598bd7",
   "metadata": {},
   "outputs": [
    {
     "name": "stdout",
     "output_type": "stream",
     "text": [
      "[1, 2, 3]\n",
      "1\n",
      "2\n",
      "3\n",
      "[7, 8, 9]\n",
      "7\n",
      "8\n",
      "9\n",
      "[4, 5, 6]\n",
      "4\n",
      "5\n",
      "6\n",
      "[0]\n",
      "0\n"
     ]
    }
   ],
   "source": [
    "# Nested for loops\n",
    "list_matrix = [\n",
    "    [1,2,3],\n",
    "    [7,8,9],\n",
    "    [4,5,6],\n",
    "    [0]\n",
    "]\n",
    "for row in list_matrix:\n",
    "    print(row)\n",
    "    for column_index in row:\n",
    "        print(column_index)"
   ]
  },
  {
   "cell_type": "markdown",
   "id": "f720175d",
   "metadata": {},
   "source": [
    "##### Building a Basic translator in Python"
   ]
  },
  {
   "cell_type": "code",
   "execution_count": null,
   "id": "e1ddc0ff",
   "metadata": {},
   "outputs": [],
   "source": [
    "# building our own translator"
   ]
  },
  {
   "cell_type": "code",
   "execution_count": 6,
   "id": "a872420d",
   "metadata": {},
   "outputs": [],
   "source": [
    "def translate(entered_phrase):\n",
    "    vowels = ['a','e','i','o','u']\n",
    "    final_translation = \"\" # empty string\n",
    "    for letter in entered_phrase:\n",
    "        if letter.lower() in vowels:\n",
    "            if letter.isupper():\n",
    "                final_translation = final_translation + \"V\"\n",
    "            else:\n",
    "                final_translation = final_translation + \"v\"\n",
    "        else:\n",
    "            final_translation = final_translation + letter\n",
    "    return final_translation"
   ]
  },
  {
   "cell_type": "code",
   "execution_count": 7,
   "id": "725df323",
   "metadata": {},
   "outputs": [
    {
     "name": "stdout",
     "output_type": "stream",
     "text": [
      "Enter your phrase to translate: Hey is this NARNIA I have a secret message from the SNOW QUEEN\n"
     ]
    },
    {
     "data": {
      "text/plain": [
       "'Hvy vs thvs NVRNVV V hvvv v svcrvt mvssvgv frvm thv SNVW QVVVN'"
      ]
     },
     "execution_count": 7,
     "metadata": {},
     "output_type": "execute_result"
    }
   ],
   "source": [
    "entered_phrase = input(\"Enter your phrase to translate: \")\n",
    "translate(entered_phrase)"
   ]
  },
  {
   "cell_type": "code",
   "execution_count": null,
   "id": "b77c8aa2",
   "metadata": {},
   "outputs": [],
   "source": [
    "# Create your own secret language translator"
   ]
  },
  {
   "cell_type": "markdown",
   "id": "710e4baf",
   "metadata": {},
   "source": [
    "##### Comments in Python"
   ]
  },
  {
   "cell_type": "code",
   "execution_count": 8,
   "id": "cc2c6c00",
   "metadata": {},
   "outputs": [],
   "source": [
    "# Single line comments\n",
    "# Comments start with an #.\n",
    "# Comments are ignored by python.\n",
    "# Comments are used to communicate the ideas in the code."
   ]
  },
  {
   "cell_type": "code",
   "execution_count": null,
   "id": "2d35c06e",
   "metadata": {},
   "outputs": [],
   "source": [
    "# Use case 1 - Write notes to other devlopers or users.\n",
    "print(\"Single line comment\") # This print() function is printing a string."
   ]
  },
  {
   "cell_type": "code",
   "execution_count": 10,
   "id": "32bca436",
   "metadata": {},
   "outputs": [
    {
     "data": {
      "text/plain": [
       "'\\nThis is a multiline comments,\\nit will be ignored by Python,\\nthe official document advices on using only single line comments.\\n'"
      ]
     },
     "execution_count": 10,
     "metadata": {},
     "output_type": "execute_result"
    }
   ],
   "source": [
    "# Multi line comments\n",
    "\"\"\"\n",
    "This is a multiline comments,\n",
    "it will be ignored by Python,\n",
    "the official document advices on using only single line comments.\n",
    "\"\"\"\n",
    "# This is a multiline comments,\n",
    "# it will be ignored by Python,\n",
    "# the official document advices on using only single line comments."
   ]
  },
  {
   "cell_type": "code",
   "execution_count": 11,
   "id": "a33add20",
   "metadata": {},
   "outputs": [],
   "source": [
    "# Use case 2 - To disable a block of code without removing it.\n",
    "#print(\"Single line comment\") # This print() function is printing a string."
   ]
  },
  {
   "cell_type": "markdown",
   "id": "69b92b1d",
   "metadata": {},
   "source": [
    "##### Catching errors in Python"
   ]
  },
  {
   "cell_type": "code",
   "execution_count": 13,
   "id": "38489684",
   "metadata": {},
   "outputs": [
    {
     "name": "stdout",
     "output_type": "stream",
     "text": [
      "Enter a number only: lllk9\n"
     ]
    },
    {
     "ename": "ValueError",
     "evalue": "invalid literal for int() with base 10: 'lllk9'",
     "output_type": "error",
     "traceback": [
      "\u001b[1;31m---------------------------------------------------------------------------\u001b[0m",
      "\u001b[1;31mValueError\u001b[0m                                Traceback (most recent call last)",
      "\u001b[1;32m~\\AppData\\Local\\Temp/ipykernel_20200/78354993.py\u001b[0m in \u001b[0;36m<module>\u001b[1;34m\u001b[0m\n\u001b[1;32m----> 1\u001b[1;33m \u001b[0mnumber\u001b[0m \u001b[1;33m=\u001b[0m \u001b[0mint\u001b[0m\u001b[1;33m(\u001b[0m\u001b[0minput\u001b[0m\u001b[1;33m(\u001b[0m\u001b[1;34m\"Enter a number only: \"\u001b[0m\u001b[1;33m)\u001b[0m\u001b[1;33m)\u001b[0m\u001b[1;33m\u001b[0m\u001b[1;33m\u001b[0m\u001b[0m\n\u001b[0m\u001b[0;32m      2\u001b[0m \u001b[0mprint\u001b[0m\u001b[1;33m(\u001b[0m\u001b[0mnumber\u001b[0m\u001b[1;33m)\u001b[0m\u001b[1;33m\u001b[0m\u001b[1;33m\u001b[0m\u001b[0m\n",
      "\u001b[1;31mValueError\u001b[0m: invalid literal for int() with base 10: 'lllk9'"
     ]
    }
   ],
   "source": [
    "number = int(input(\"Enter a number only: \"))\n",
    "print(number)"
   ]
  },
  {
   "cell_type": "code",
   "execution_count": 16,
   "id": "cd774209",
   "metadata": {},
   "outputs": [
    {
     "name": "stdout",
     "output_type": "stream",
     "text": [
      "Enter a number only: 79\n",
      "79\n"
     ]
    }
   ],
   "source": [
    "# try except block\n",
    "try:\n",
    "    number = int(input(\"Enter a number only: \"))\n",
    "    print(number)\n",
    "except: # 'except' catches any error in the program.\n",
    "    print(\"Invalid data type\")\n",
    "#basically to protect our code. "
   ]
  },
  {
   "cell_type": "code",
   "execution_count": 17,
   "id": "b37b1268",
   "metadata": {},
   "outputs": [
    {
     "ename": "ZeroDivisionError",
     "evalue": "division by zero",
     "output_type": "error",
     "traceback": [
      "\u001b[1;31m---------------------------------------------------------------------------\u001b[0m",
      "\u001b[1;31mZeroDivisionError\u001b[0m                         Traceback (most recent call last)",
      "\u001b[1;32m~\\AppData\\Local\\Temp/ipykernel_20200/530406163.py\u001b[0m in \u001b[0;36m<module>\u001b[1;34m\u001b[0m\n\u001b[1;32m----> 1\u001b[1;33m \u001b[1;36m10\u001b[0m\u001b[1;33m/\u001b[0m\u001b[1;36m0\u001b[0m\u001b[1;33m\u001b[0m\u001b[1;33m\u001b[0m\u001b[0m\n\u001b[0m",
      "\u001b[1;31mZeroDivisionError\u001b[0m: division by zero"
     ]
    }
   ],
   "source": [
    "answer = 10/0"
   ]
  },
  {
   "cell_type": "code",
   "execution_count": 18,
   "id": "fccb0db5",
   "metadata": {},
   "outputs": [
    {
     "name": "stdout",
     "output_type": "stream",
     "text": [
      "Invalid data type\n"
     ]
    }
   ],
   "source": [
    "# lets put it in the try block and except will catch it\n",
    "try:\n",
    "    answer = 10/0\n",
    "    number = int(input(\"Enter a number only: \"))\n",
    "    print(number)\n",
    "except: # 'except' catches any error in the program.\n",
    "    print(\"Invalid data type\")"
   ]
  },
  {
   "cell_type": "code",
   "execution_count": null,
   "id": "dce0df48",
   "metadata": {},
   "outputs": [],
   "source": [
    "# It is a valid data type."
   ]
  },
  {
   "cell_type": "code",
   "execution_count": 20,
   "id": "fb021b91",
   "metadata": {},
   "outputs": [
    {
     "name": "stdout",
     "output_type": "stream",
     "text": [
      "Enter a number only: 2jj\n",
      "Invalid data type\n"
     ]
    }
   ],
   "source": [
    "try:\n",
    "    #answer = 10/0 # zero division error\n",
    "    number = int(input(\"Enter a number only: \"))\n",
    "    print(number)\n",
    "except ZeroDivisionError:\n",
    "    print(\"Number cannot be divide by zero.\")\n",
    "except ValueError: # 'except' catches any error in the program.\n",
    "    print(\"Invalid data type\")"
   ]
  },
  {
   "cell_type": "code",
   "execution_count": 22,
   "id": "d91c744f",
   "metadata": {},
   "outputs": [
    {
     "name": "stdout",
     "output_type": "stream",
     "text": [
      "Enter a number only: jhkj\n",
      "invalid literal for int() with base 10: 'jhkj'\n"
     ]
    }
   ],
   "source": [
    "# We can store errors as variable.\n",
    "try:\n",
    "    #answer = 10/0 # zero division error\n",
    "    number = int(input(\"Enter a number only: \"))\n",
    "    print(number)\n",
    "except ZeroDivisionError as zero_err:\n",
    "    print(zero_err)\n",
    "except ValueError as val_err: # 'except' catches any error in the program.\n",
    "    print(val_err)"
   ]
  },
  {
   "cell_type": "code",
   "execution_count": null,
   "id": "a8c99051",
   "metadata": {},
   "outputs": [],
   "source": [
    "# Catch specific errors in Python and that is the best practise."
   ]
  },
  {
   "cell_type": "markdown",
   "id": "946d47a5",
   "metadata": {},
   "source": [
    "##### Reading files in Python"
   ]
  },
  {
   "cell_type": "code",
   "execution_count": null,
   "id": "cefadda0",
   "metadata": {},
   "outputs": [],
   "source": [
    "# reading an external file\n",
    "# python read() command"
   ]
  },
  {
   "cell_type": "code",
   "execution_count": null,
   "id": "d9e962b6",
   "metadata": {},
   "outputs": [],
   "source": [
    "# open()\n",
    "# if file is in the same directory no need to specify the path.\n",
    "# opening \"Employees.txt\"\n",
    "# mode: \"r\"- read only,\"w\"- change/write file, \"a\" - append information at the end of the file or adding new information, r+ - means read and write\n",
    "employee_data = open(\"Employees.txt\",\"r\")\n",
    "# The content in the file is stored in the variable.\n",
    "# Remember to close file.\n",
    "employee_data.close()"
   ]
  },
  {
   "cell_type": "code",
   "execution_count": 24,
   "id": "dd3500b6",
   "metadata": {},
   "outputs": [
    {
     "name": "stdout",
     "output_type": "stream",
     "text": [
      "True\n"
     ]
    }
   ],
   "source": [
    "# Before doing it first check if the file is readable.\n",
    "employee_data = open(\"Employees.txt\",\"r\")\n",
    "print(employee_data.readable())\n",
    "employee_data.close()"
   ]
  },
  {
   "cell_type": "code",
   "execution_count": 25,
   "id": "951a468e",
   "metadata": {},
   "outputs": [
    {
     "name": "stdout",
     "output_type": "stream",
     "text": [
      "1. Arjun - Data Scientist\n",
      "2. Sriraam - Block chain developer\n",
      "3. Hira - Full stack developer\n"
     ]
    }
   ],
   "source": [
    "# Read all the information in the file.\n",
    "employee_data = open(\"Employees.txt\",\"r\")\n",
    "print(employee_data.read())\n",
    "employee_data.close()"
   ]
  },
  {
   "cell_type": "code",
   "execution_count": 28,
   "id": "dc64e53f",
   "metadata": {},
   "outputs": [
    {
     "name": "stdout",
     "output_type": "stream",
     "text": [
      "1 line\n",
      "1. Arjun - Data Scientist\n",
      "\n",
      "2 line\n",
      "2. Sriraam - Block chain developer\n",
      "\n",
      "3 line\n",
      "3. Hira - Full stack developer\n"
     ]
    }
   ],
   "source": [
    "# Read it line by line in the file.\n",
    "employee_data = open(\"Employees.txt\",\"r\")\n",
    "print(\"1 line\")\n",
    "print(employee_data.readline()) # The cursor moves on from o1 line to second line and so on.\n",
    "print(\"2 line\")\n",
    "print(employee_data.readline())\n",
    "print(\"3 line\")\n",
    "print(employee_data.readline())\n",
    "employee_data.close()"
   ]
  },
  {
   "cell_type": "code",
   "execution_count": 32,
   "id": "3edbc396",
   "metadata": {},
   "outputs": [
    {
     "name": "stdout",
     "output_type": "stream",
     "text": [
      "['1. Arjun - Data Scientist\\n', '2. Sriraam - Block chain developer\\n', '3. Hira - Full stack developer']\n"
     ]
    }
   ],
   "source": [
    "# Create a list of lines\n",
    "employee_data = open(\"Employees.txt\",\"r\")\n",
    "print(employee_data.readlines())\n",
    "employee_data.close()"
   ]
  },
  {
   "cell_type": "code",
   "execution_count": 33,
   "id": "a4dbe80a",
   "metadata": {},
   "outputs": [
    {
     "name": "stdout",
     "output_type": "stream",
     "text": [
      "1. Arjun - Data Scientist\n",
      "\n",
      "2. Sriraam - Block chain developer\n",
      "\n",
      "3. Hira - Full stack developer\n"
     ]
    }
   ],
   "source": [
    "# Using for loop in readlines()\n",
    "employee_data = open(\"Employees.txt\",\"r\")\n",
    "for employee in employee_data.readlines():\n",
    "    print(employee)\n",
    "employee_data.close()"
   ]
  },
  {
   "cell_type": "code",
   "execution_count": null,
   "id": "b22da08d",
   "metadata": {},
   "outputs": [],
   "source": [
    "# this is just the basics of reading from file"
   ]
  },
  {
   "cell_type": "markdown",
   "id": "381b825c",
   "metadata": {},
   "source": [
    "##### Writing and appending files in python"
   ]
  },
  {
   "cell_type": "code",
   "execution_count": 46,
   "id": "4da0dd60",
   "metadata": {},
   "outputs": [
    {
     "name": "stdout",
     "output_type": "stream",
     "text": [
      "24\n"
     ]
    }
   ],
   "source": [
    "# append - new info at the end\n",
    "employee_data = open(\"Employees.txt\",\"a\")\n",
    "print(employee_data.write(\"\\n4. Yuka human resources\")) # \\n - new line character Special characters\n",
    "employee_data.close()"
   ]
  },
  {
   "cell_type": "code",
   "execution_count": 47,
   "id": "4b5ecd5f",
   "metadata": {},
   "outputs": [
    {
     "name": "stdout",
     "output_type": "stream",
     "text": [
      "1. Arjun - Data Scientist\n",
      "2. Sriraam - Block chain developer\n",
      "3. Hira - Full stack developer\n",
      "\n",
      "4. Yuka human resources4. Yuka human resources/n4. Yuka human resources\n",
      "4. Yuka human resources\n"
     ]
    }
   ],
   "source": [
    "employee_data = open(\"Employees.txt\",\"r\")\n",
    "print(employee_data.read())\n",
    "employee_data.close()\n",
    "# be careful with appending files because of some mistakes."
   ]
  },
  {
   "cell_type": "code",
   "execution_count": 48,
   "id": "1df0b0a4",
   "metadata": {},
   "outputs": [
    {
     "name": "stdout",
     "output_type": "stream",
     "text": [
      "24\n"
     ]
    }
   ],
   "source": [
    "# overwrite a file\n",
    "employee_data = open(\"Employees.txt\",\"w\")\n",
    "print(employee_data.write(\"1. Menu Customer Service\"))\n",
    "employee_data.close()"
   ]
  },
  {
   "cell_type": "code",
   "execution_count": 49,
   "id": "09ca8e64",
   "metadata": {},
   "outputs": [
    {
     "name": "stdout",
     "output_type": "stream",
     "text": [
      "1. Menu Customer Service\n"
     ]
    }
   ],
   "source": [
    "employee_data = open(\"Employees.txt\",\"r\")\n",
    "print(employee_data.read())\n",
    "employee_data.close()\n",
    "# Entire file has been over written"
   ]
  },
  {
   "cell_type": "code",
   "execution_count": 50,
   "id": "e82d5483",
   "metadata": {},
   "outputs": [
    {
     "name": "stdout",
     "output_type": "stream",
     "text": [
      "140\n"
     ]
    }
   ],
   "source": [
    "# You can use 'w' to create a new file\n",
    "employee_data = open(\"Employees_5.txt\",\"w\")\n",
    "print(employee_data.write(\"1. Arjun - Data Scientist\\n2. Sriraam - Block chain developer\\n3. Hira - Full stack developer\\n4. Yuka human resources\\n5. Menu Customer Service\"))\n",
    "employee_data.close()"
   ]
  },
  {
   "cell_type": "code",
   "execution_count": 52,
   "id": "19211ab1",
   "metadata": {},
   "outputs": [
    {
     "name": "stdout",
     "output_type": "stream",
     "text": [
      "1. Arjun - Data Scientist\n",
      "2. Sriraam - Block chain developer\n",
      "3. Hira - Full stack developer\n",
      "4. Yuka human resources\n",
      "5. Menu Customer Service\n"
     ]
    }
   ],
   "source": [
    "employee_data = open(\"Employees_5.txt\",\"r\")\n",
    "print(employee_data.read())\n",
    "employee_data.close()\n",
    "# New file has been created with the inputted data."
   ]
  },
  {
   "cell_type": "code",
   "execution_count": 55,
   "id": "7fc39cf8",
   "metadata": {},
   "outputs": [
    {
     "name": "stdout",
     "output_type": "stream",
     "text": [
      "30\n"
     ]
    }
   ],
   "source": [
    "# Can write any type of file.\n",
    "# HTML \n",
    "employee_data = open(\"Html_file.html\",\"w\")\n",
    "print(employee_data.write(\"<p>We can write HTML pages</p>\"))\n",
    "employee_data.close()"
   ]
  },
  {
   "cell_type": "code",
   "execution_count": 56,
   "id": "fbe4581e",
   "metadata": {},
   "outputs": [
    {
     "name": "stdout",
     "output_type": "stream",
     "text": [
      "<p>We can write HTML pages</p>\n"
     ]
    }
   ],
   "source": [
    "employee_data = open(\"Html_file.html\",\"r\")\n",
    "print(employee_data.read())\n",
    "employee_data.close()"
   ]
  },
  {
   "cell_type": "code",
   "execution_count": null,
   "id": "36ab8db5",
   "metadata": {},
   "outputs": [],
   "source": [
    "# pandas does file handling with tabular data like excel, csv much easier......"
   ]
  },
  {
   "cell_type": "markdown",
   "id": "664e5246",
   "metadata": {},
   "source": [
    "##### Modules and Pip in Python"
   ]
  },
  {
   "cell_type": "code",
   "execution_count": null,
   "id": "e6035ab5",
   "metadata": {},
   "outputs": [],
   "source": [
    "# A module is actually a python file that can be imported into our current working python file to use the functions, classe, variables , etc. in that module."
   ]
  },
  {
   "cell_type": "code",
   "execution_count": null,
   "id": "e248bf2a",
   "metadata": {},
   "outputs": [],
   "source": [
    "# import external_file\n",
    "# access external_file."
   ]
  },
  {
   "cell_type": "code",
   "execution_count": null,
   "id": "8b5c867a",
   "metadata": {},
   "outputs": [],
   "source": [
    "import random\n",
    "random.gauss()"
   ]
  },
  {
   "cell_type": "code",
   "execution_count": null,
   "id": "40682e4d",
   "metadata": {},
   "outputs": [],
   "source": [
    "# official python docs\n",
    "# list of python modules in Python\n",
    "# Select for correct version."
   ]
  },
  {
   "cell_type": "code",
   "execution_count": null,
   "id": "41291873",
   "metadata": {},
   "outputs": [],
   "source": [
    "# Where are the file stored ?\n",
    "# To answer these questions there are two type of module:\n",
    "#1. Built in modules: Automatic access to them. \n",
    "#2. External modules: Need to be imported - basically stored in the folder where python is in our computer. External libraries: Lib"
   ]
  },
  {
   "cell_type": "code",
   "execution_count": null,
   "id": "ae360d99",
   "metadata": {},
   "outputs": [],
   "source": [
    "# Install modules that are not pre installed in Python.\n",
    "pip install pandas --upgrade\n",
    "# pip comes with python 3\n",
    "# It is referred to as a packet manager -python modules....."
   ]
  },
  {
   "cell_type": "code",
   "execution_count": null,
   "id": "6246e41e",
   "metadata": {},
   "outputs": [],
   "source": [
    "# cmd\n",
    "# Check if pip is installed: pip --version\n",
    "# pip install pandas\n",
    "# Where it is stored?\n",
    "#External Libraries--> Lib --> site-packages ---> package"
   ]
  },
  {
   "cell_type": "code",
   "execution_count": null,
   "id": "761559d1",
   "metadata": {},
   "outputs": [],
   "source": [
    "# To use it we should import it....."
   ]
  },
  {
   "cell_type": "code",
   "execution_count": null,
   "id": "bec59be1",
   "metadata": {},
   "outputs": [],
   "source": [
    "import pandas"
   ]
  },
  {
   "cell_type": "code",
   "execution_count": null,
   "id": "ca4d28fc",
   "metadata": {},
   "outputs": [],
   "source": [
    "# remove \n",
    "pip install pandas"
   ]
  },
  {
   "cell_type": "code",
   "execution_count": null,
   "id": "3eed023f",
   "metadata": {},
   "outputs": [],
   "source": [
    "# Will not work\n",
    "import pandas"
   ]
  },
  {
   "cell_type": "markdown",
   "id": "ada297e5",
   "metadata": {},
   "source": [
    "##### Classes & Objects in python"
   ]
  },
  {
   "cell_type": "code",
   "execution_count": null,
   "id": "aa777be5",
   "metadata": {},
   "outputs": [],
   "source": [
    "# Sometimes real world examples cannot be represented by basic data types (str,int,float,bool) and collections (list,tuple,set,dictionary).\n",
    "# Create your own data type in Python: Example: phone\n",
    "# Example: Create a student class."
   ]
  },
  {
   "cell_type": "code",
   "execution_count": null,
   "id": "0afc467d",
   "metadata": {},
   "outputs": [],
   "source": [
    "# We cant put the characteristics for a student in basic data types or collections in python."
   ]
  },
  {
   "cell_type": "code",
   "execution_count": 57,
   "id": "31ee1853",
   "metadata": {},
   "outputs": [],
   "source": [
    "# Student class is a template a student\n",
    "class Student:\n",
    "    # Design / model a bunch of attributes of the Student class.\n",
    "    \n",
    "    # Initialize function.\n",
    "    def __init__(self,name,degree,marks,is_passed): # name,degree,marks,is_passed are attributes\n",
    "        # Map the attributes in which Students should have.\n",
    "        self.name = name\n",
    "        self.degree = degree\n",
    "        self.marks = marks\n",
    "        self.is_passed = is_passed"
   ]
  },
  {
   "cell_type": "code",
   "execution_count": 58,
   "id": "96a679e1",
   "metadata": {},
   "outputs": [
    {
     "name": "stdout",
     "output_type": "stream",
     "text": [
      "Aswin\n",
      "IT-Data Science\n",
      "10.0\n",
      "True\n"
     ]
    }
   ],
   "source": [
    "# We can create a student with that template- i.e Object.\n",
    "#from file import class\n",
    "student_1 = Student(\"Aswin\",\"IT-Data Science\",10.0,True)\n",
    "print(student_1.name)\n",
    "print(student_1.degree)\n",
    "print(student_1.marks)\n",
    "print(student_1.is_passed)"
   ]
  },
  {
   "cell_type": "code",
   "execution_count": 60,
   "id": "8108fdf5",
   "metadata": {},
   "outputs": [
    {
     "name": "stdout",
     "output_type": "stream",
     "text": [
      "Arjun\n",
      "Human resources\n",
      "10.0\n",
      "True\n"
     ]
    }
   ],
   "source": [
    "student_2 = Student(\"Arjun\",\"Human resources\",10.0,True)\n",
    "print(student_2.name)\n",
    "print(student_2.degree)\n",
    "print(student_2.marks)\n",
    "print(student_2.is_passed)"
   ]
  },
  {
   "cell_type": "code",
   "execution_count": null,
   "id": "2be58a0f",
   "metadata": {},
   "outputs": [],
   "source": [
    "# When we are creating the object using the Student class template the values we give are passed through initialize function.\n",
    "# self.name is the generate template attribute but name is the value you passed in and that is set to self.name.\n",
    "# Assigning passed in values to the attributes of the Student Class."
   ]
  },
  {
   "cell_type": "code",
   "execution_count": null,
   "id": "1b69ffc1",
   "metadata": {},
   "outputs": [],
   "source": [
    "# We can model any real world entity as classes in Python."
   ]
  },
  {
   "cell_type": "markdown",
   "id": "3ea3c178",
   "metadata": {},
   "source": [
    "##### Building a multiple choice quiz in Python"
   ]
  },
  {
   "cell_type": "code",
   "execution_count": 10,
   "id": "b41a78ef",
   "metadata": {},
   "outputs": [],
   "source": [
    "question_input_prompts = [\n",
    "    \"What is the capital of India? \\na. Delhi\\nb. Chennai\\nc. Mumbai\",\n",
    "    \"What is the capital of USA? \\na. Los Angeles\\nb. Washington\\nc. Newyork\",\n",
    "    \"What is the capital of Morocco? \\na. Dubai\\nb. Riyadh\\nc. Rabat\"\n",
    "\n",
    "]"
   ]
  },
  {
   "cell_type": "code",
   "execution_count": 11,
   "id": "df032e0e",
   "metadata": {},
   "outputs": [],
   "source": [
    "# lets create a class Question\n",
    "class Question:\n",
    "    def __init__(self,prompt,answer):\n",
    "        self.prompt = prompt\n",
    "        self.answer = answer"
   ]
  },
  {
   "cell_type": "code",
   "execution_count": 12,
   "id": "ca7008da",
   "metadata": {},
   "outputs": [],
   "source": [
    "# Create a list of Question objects.\n",
    "questions = [\n",
    "    Question(question_input_prompts[0],\"a\"),\n",
    "    Question(question_input_prompts[1],\"b\"),\n",
    "    Question(question_input_prompts[2],\"c\")\n",
    "]"
   ]
  },
  {
   "cell_type": "code",
   "execution_count": 21,
   "id": "fda311d1",
   "metadata": {},
   "outputs": [],
   "source": [
    "# Create a function for the test\n",
    "def run_quiz(questions):\n",
    "    score = 0\n",
    "    for question in questions:\n",
    "        answer = input(question.prompt)\n",
    "        print(\"Your entered answer is \"+answer)\n",
    "        if answer == question.answer:\n",
    "            score+= 1\n",
    "    print(\"Your score is: \" + str(score) + \"/\" + str(len(questions)))"
   ]
  },
  {
   "cell_type": "code",
   "execution_count": 22,
   "id": "c9fea238",
   "metadata": {},
   "outputs": [
    {
     "name": "stdout",
     "output_type": "stream",
     "text": [
      "What is the capital of India? \n",
      "a. Delhi\n",
      "b. Chennai\n",
      "c. Mumbaia\n",
      "Your entered answer is a\n",
      "What is the capital of USA? \n",
      "a. Los Angeles\n",
      "b. Washington\n",
      "c. Newyorkb\n",
      "Your entered answer is b\n",
      "What is the capital of Morocco? \n",
      "a. Dubai\n",
      "b. Riyadh\n",
      "c. Rabatc\n",
      "Your entered answer is c\n",
      "Your score is: 3/3\n"
     ]
    }
   ],
   "source": [
    "run_quiz(questions)"
   ]
  },
  {
   "cell_type": "markdown",
   "id": "28349397",
   "metadata": {},
   "source": [
    "##### Class functions in Python (Object accessing Functions)"
   ]
  },
  {
   "cell_type": "code",
   "execution_count": 23,
   "id": "edb91660",
   "metadata": {},
   "outputs": [],
   "source": [
    "# Student class is a template a student\n",
    "class Student:\n",
    "    # Design / model a bunch of attributes of the Student class.\n",
    "    \n",
    "    # Initialize function.\n",
    "    def __init__(self,name,degree,marks,is_passed): # name,degree,marks,is_passed are attributes\n",
    "        # Map the attributes in which Students should have.\n",
    "        self.name = name\n",
    "        self.degree = degree\n",
    "        self.marks = marks\n",
    "        self.is_passed = is_passed\n",
    "    # 'self' is always the first parameter.\n",
    "    def is_in_edcom(self):\n",
    "        if self.marks > 6.0:\n",
    "            return True\n",
    "        else:\n",
    "            return False\n",
    "        # Putting functions inside a class.\n",
    "        # (Class function) A small function but it provides service to the objects of the class. \n",
    "        # Created objects of the Class can access these functions."
   ]
  },
  {
   "cell_type": "code",
   "execution_count": 26,
   "id": "e077d1fb",
   "metadata": {},
   "outputs": [],
   "source": [
    "# Create Student objects.\n",
    "student_1 = Student(\"Aswin\",\"IT-Data Science\",10.0,True)\n",
    "student_2 = Student(\"Arjun\",\"Human resources\",4.0,True)"
   ]
  },
  {
   "cell_type": "code",
   "execution_count": 29,
   "id": "487aea81",
   "metadata": {},
   "outputs": [
    {
     "name": "stdout",
     "output_type": "stream",
     "text": [
      "True\n"
     ]
    }
   ],
   "source": [
    "# accessing the class function \n",
    "print(student_1.is_in_edcom())"
   ]
  },
  {
   "cell_type": "code",
   "execution_count": 30,
   "id": "dba3626c",
   "metadata": {},
   "outputs": [
    {
     "name": "stdout",
     "output_type": "stream",
     "text": [
      "False\n"
     ]
    }
   ],
   "source": [
    "print(student_2.is_in_edcom())"
   ]
  },
  {
   "cell_type": "markdown",
   "id": "4af9d94e",
   "metadata": {},
   "source": [
    "#### Inheritance - Classes "
   ]
  },
  {
   "cell_type": "code",
   "execution_count": 36,
   "id": "3f252f45",
   "metadata": {},
   "outputs": [],
   "source": [
    "class Chef:\n",
    "    def makes_nonveg(self):\n",
    "        print(\"The chef cooks Non veg food.\")\n",
    "    def makes_veg(self):\n",
    "        print(\"The chef cooks Veg food.\")     \n",
    "    def signature_dish(self):\n",
    "        print(\"The chef's signature dish is pasta.\")\n",
    "    def makes_french_fries(self):\n",
    "        print(\"The chef cooks french fries.\")"
   ]
  },
  {
   "cell_type": "code",
   "execution_count": 33,
   "id": "ba4019dc",
   "metadata": {},
   "outputs": [],
   "source": [
    "# Lets create South Indian Chef.\n",
    "# South Indian chef may share all or few of the gereral characteristics of a Chef.\n",
    "class SouthIndianChef:\n",
    "    # copy and paste from general characteristics.\n",
    "    def makes_nonveg(self):\n",
    "        print(\"The chef cooks Non veg food.\")\n",
    "    def makes_veg(self):\n",
    "        print(\"The chef cooks Veg food.\")     \n",
    "    def signature_dish(self):\n",
    "        print(\"The chef's signature dish is pasta.\")\n",
    "    def makes_french_fries(self):\n",
    "        print(\"The chef cooks french fries.\")\n",
    "    # unique character of South indian Chef.\n",
    "    def makes_sambar(self):\n",
    "        print(\"The chef cooks sambar.\")\n",
    "    def makes_rasam(self):\n",
    "        print(\"The chef cooks rasam.\")\n",
    "    def makes_mutton_chukka(self):\n",
    "        print(\"The chef makes mutton chukka.\")\n",
    "chef_rajesh_kumar = SouthIndianChef()"
   ]
  },
  {
   "cell_type": "code",
   "execution_count": 35,
   "id": "ded25a22",
   "metadata": {},
   "outputs": [
    {
     "name": "stdout",
     "output_type": "stream",
     "text": [
      "The chef cooks sambar.\n"
     ]
    }
   ],
   "source": [
    "chef_rajesh_kumar.makes_sambar()"
   ]
  },
  {
   "cell_type": "code",
   "execution_count": null,
   "id": "bb90face",
   "metadata": {},
   "outputs": [],
   "source": [
    "# We can use inheritance and make SouthIndianChef a child class of Chef."
   ]
  },
  {
   "cell_type": "code",
   "execution_count": 37,
   "id": "749ce799",
   "metadata": {},
   "outputs": [],
   "source": [
    "class SouthIndianChef(Chef):\n",
    "    # Copy and paste from general characteristics.\n",
    "    # All the functions in Class Chef applies now to class SouthIndianChef.\n",
    "    # Unique function of South indian Chef.\n",
    "    def makes_sambar(self):\n",
    "        print(\"The chef cooks sambar.\")\n",
    "    def makes_rasam(self):\n",
    "        print(\"The chef cooks rasam.\")\n",
    "    def makes_mutton_chukka(self):\n",
    "        print(\"The chef makes mutton chukka.\")"
   ]
  },
  {
   "cell_type": "code",
   "execution_count": 38,
   "id": "b4d9713b",
   "metadata": {},
   "outputs": [],
   "source": [
    "chef_siva = SouthIndianChef()"
   ]
  },
  {
   "cell_type": "code",
   "execution_count": 39,
   "id": "57ac18f4",
   "metadata": {},
   "outputs": [
    {
     "name": "stdout",
     "output_type": "stream",
     "text": [
      "The chef cooks Non veg food.\n"
     ]
    }
   ],
   "source": [
    "chef_siva.makes_nonveg()"
   ]
  },
  {
   "cell_type": "code",
   "execution_count": 40,
   "id": "263d9883",
   "metadata": {},
   "outputs": [
    {
     "name": "stdout",
     "output_type": "stream",
     "text": [
      "The chef cooks rasam.\n"
     ]
    }
   ],
   "source": [
    "chef_siva.makes_rasam()"
   ]
  },
  {
   "cell_type": "code",
   "execution_count": null,
   "id": "a61e12b9",
   "metadata": {},
   "outputs": [],
   "source": [
    "# In the general characteristics certain functions or attributes may change for child class."
   ]
  },
  {
   "cell_type": "code",
   "execution_count": 41,
   "id": "fc2aa38d",
   "metadata": {},
   "outputs": [],
   "source": [
    "class SouthIndianChef(Chef):\n",
    "    # Overriding - similar to over writing variables.\n",
    "    # Some function in general class or parent class is unique to child class.\n",
    "    def signature_dish(self):\n",
    "        print(\"The chef's signature dish is chettinad dinner combo.\")\n",
    "    def makes_sambar(self):\n",
    "        print(\"The chef cooks sambar.\")\n",
    "    def makes_rasam(self):\n",
    "        print(\"The chef cooks rasam.\")\n",
    "    def makes_mutton_chukka(self):\n",
    "        print(\"The chef makes mutton chukka.\")"
   ]
  },
  {
   "cell_type": "code",
   "execution_count": 42,
   "id": "0079e468",
   "metadata": {},
   "outputs": [],
   "source": [
    "chef_siva = SouthIndianChef()"
   ]
  },
  {
   "cell_type": "code",
   "execution_count": 43,
   "id": "86714b8d",
   "metadata": {},
   "outputs": [
    {
     "name": "stdout",
     "output_type": "stream",
     "text": [
      "The chef's signature dish is chettinad dinner combo.\n"
     ]
    }
   ],
   "source": [
    "# The parent class function has been overwritten.\n",
    "chef_siva.signature_dish()"
   ]
  },
  {
   "cell_type": "code",
   "execution_count": 44,
   "id": "c226ecd7",
   "metadata": {},
   "outputs": [
    {
     "name": "stdout",
     "output_type": "stream",
     "text": [
      "The chef cooks french fries.\n"
     ]
    }
   ],
   "source": [
    "chef_siva.makes_french_fries()"
   ]
  },
  {
   "cell_type": "code",
   "execution_count": 45,
   "id": "1049ffa4",
   "metadata": {},
   "outputs": [
    {
     "name": "stdout",
     "output_type": "stream",
     "text": [
      "The chef cooks sambar.\n"
     ]
    }
   ],
   "source": [
    "chef_siva.makes_sambar()"
   ]
  },
  {
   "cell_type": "code",
   "execution_count": 46,
   "id": "d045b980",
   "metadata": {},
   "outputs": [
    {
     "name": "stdout",
     "output_type": "stream",
     "text": [
      "The chef cooks rasam.\n"
     ]
    }
   ],
   "source": [
    "chef_siva.makes_rasam()"
   ]
  },
  {
   "cell_type": "code",
   "execution_count": null,
   "id": "9cfd79e8",
   "metadata": {},
   "outputs": [],
   "source": [
    "# Inheritance helps to inherit from a"
   ]
  },
  {
   "cell_type": "markdown",
   "id": "789124d7",
   "metadata": {},
   "source": [
    "##### Python Interpreter"
   ]
  },
  {
   "cell_type": "code",
   "execution_count": null,
   "id": "2adbff35",
   "metadata": {},
   "outputs": [],
   "source": [
    "# Open cmd."
   ]
  },
  {
   "cell_type": "code",
   "execution_count": null,
   "id": "9b5a8e5a",
   "metadata": {},
   "outputs": [],
   "source": [
    "# 'cmd' is a Command Line Interface not a Graphical User Interface."
   ]
  },
  {
   "cell_type": "code",
   "execution_count": null,
   "id": "87078382",
   "metadata": {},
   "outputs": [],
   "source": [
    "# python command"
   ]
  },
  {
   "cell_type": "code",
   "execution_count": 48,
   "id": "f22461b7",
   "metadata": {},
   "outputs": [
    {
     "name": "stdout",
     "output_type": "stream",
     "text": [
      "Hello Sriraam\n"
     ]
    }
   ],
   "source": [
    "print(\"Hello Sriraam\")"
   ]
  },
  {
   "cell_type": "code",
   "execution_count": 47,
   "id": "55eb7a9f",
   "metadata": {},
   "outputs": [
    {
     "name": "stdout",
     "output_type": "stream",
     "text": [
      "11\n"
     ]
    }
   ],
   "source": [
    "number_1 = 6\n",
    "number_2 = 5\n",
    "print(number_1 + number_2)"
   ]
  },
  {
   "cell_type": "code",
   "execution_count": 49,
   "id": "07817f91",
   "metadata": {},
   "outputs": [
    {
     "name": "stdout",
     "output_type": "stream",
     "text": [
      "HelloSriraam\n"
     ]
    }
   ],
   "source": [
    "def say_hello(name):\n",
    "    print(\"Hello\" + name)\n",
    "say_hello(\"Sriraam\")"
   ]
  },
  {
   "cell_type": "code",
   "execution_count": null,
   "id": "e68a8673",
   "metadata": {},
   "outputs": [],
   "source": [
    "# Basically use all the Python commands in the Python interpreter.\n",
    "# Dont use interpreter for writing codes.\n",
    "# Just use it for tests.\n",
    "# Use a text editor."
   ]
  },
  {
   "cell_type": "code",
   "execution_count": null,
   "id": "7e526191",
   "metadata": {},
   "outputs": [],
   "source": [
    "# End of the book but not the end of your coding learning.\n",
    "# Smile"
   ]
  }
 ],
 "metadata": {
  "kernelspec": {
   "display_name": "Python 3 (ipykernel)",
   "language": "python",
   "name": "python3"
  },
  "language_info": {
   "codemirror_mode": {
    "name": "ipython",
    "version": 3
   },
   "file_extension": ".py",
   "mimetype": "text/x-python",
   "name": "python",
   "nbconvert_exporter": "python",
   "pygments_lexer": "ipython3",
   "version": "3.9.7"
  }
 },
 "nbformat": 4,
 "nbformat_minor": 5
}
